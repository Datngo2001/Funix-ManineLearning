{
  "nbformat": 4,
  "nbformat_minor": 0,
  "metadata": {
    "kernelspec": {
      "display_name": "Python 3",
      "language": "python",
      "name": "python3"
    },
    "language_info": {
      "codemirror_mode": {
        "name": "ipython",
        "version": 3
      },
      "file_extension": ".py",
      "mimetype": "text/x-python",
      "name": "python",
      "nbconvert_exporter": "python",
      "pygments_lexer": "ipython3",
      "version": "3.7.6"
    },
    "colab": {
      "provenance": []
    }
  },
  "cells": [
    {
      "cell_type": "markdown",
      "metadata": {
        "id": "hEsuURrLJ7BP"
      },
      "source": [
        "# Giao diện lập trình ứng dụng (API)\n",
        "\n",
        "Thời lượng ước tính cần thiết: **15** phút\n",
        "\n",
        "## Mục tiêu\n",
        "\n",
        "Sau khi hoàn thành lab này, bạn sẽ có thể:\n",
        "\n",
        "-   Tạo và sử dụng API trong Python\n"
      ]
    },
    {
      "cell_type": "markdown",
      "metadata": {
        "id": "ohNR8jJ_J7BZ"
      },
      "source": [
        "### Giới thiệu\n",
        "\n",
        "API cho phép hai phần mềm giao tiếp với nhau. Cũng giống như hàm, bạn không cần phải biết API hoạt động như thế nào mà chỉ có các đầu vào và đầu ra của nó. Kiểu API thiết yếu là REST API cho phép bạn truy cập tài nguyên qua internet. Trong lab này, chúng ta sẽ xem xét Thư viện Pandas trong ngữ cảnh của một API, chúng ta cũng sẽ xem xét REST API cơ bản.\n"
      ]
    },
    {
      "cell_type": "markdown",
      "metadata": {
        "id": "xBgPSSKbJ7Ba"
      },
      "source": [
        "## Mục lục\n",
        "\n",
        "<div class=\"alert alert-block alert-info\" style=\"margin-top: 20px\">\n",
        "<li><a href=\"#ref0\">Pandas là một API</a></li>\n",
        "<li><a href=\"#ref1\">Các kiến thức cơ bản về REST API</a></li>\n",
        "\n",
        "</div>\n",
        "\n",
        "<hr>\n"
      ]
    },
    {
      "cell_type": "code",
      "metadata": {
        "jupyter": {
          "outputs_hidden": false
        },
        "id": "leOqx8QkJ7Bb"
      },
      "source": [
        "!pip install pycoingecko\n",
        "!pip install plotly\n",
        "!pip install mplfinance"
      ],
      "execution_count": null,
      "outputs": []
    },
    {
      "cell_type": "markdown",
      "metadata": {
        "id": "P1_41Zi2J7Bb"
      },
      "source": [
        "##<h2 id=\"PandasAPI\">Pandas là một API </h2>\n"
      ]
    },
    {
      "cell_type": "markdown",
      "metadata": {
        "id": "LUw1qEWPJ7Bc"
      },
      "source": [
        "Pandas thực sự là một tập hợp các thành phần phần mềm, phần lớn trong số đó thậm chí không được viết bằng Python."
      ]
    },
    {
      "cell_type": "code",
      "metadata": {
        "jupyter": {
          "outputs_hidden": false
        },
        "id": "8thPAeaNJ7Bc"
      },
      "source": [
        "import pandas as pd\n",
        "import numpy as np\n",
        "import plotly.graph_objects as go\n",
        "from plotly.offline import plot\n",
        "import matplotlib.pyplot as plt\n",
        "import datetime\n",
        "from pycoingecko import CoinGeckoAPI\n",
        "from mplfinance.original_flavor import candlestick2_ohlc"
      ],
      "execution_count": null,
      "outputs": []
    },
    {
      "cell_type": "markdown",
      "metadata": {
        "id": "48oRA6JyJ7Bd"
      },
      "source": [
        "Bạn tạo một dictionary, đây chỉ là dữ liệu."
      ]
    },
    {
      "cell_type": "code",
      "metadata": {
        "jupyter": {
          "outputs_hidden": false
        },
        "id": "6wDw6nJ4J7Bd"
      },
      "source": [
        "dict_={'a':[11,21,31],'b':[12,22,32]}"
      ],
      "execution_count": null,
      "outputs": []
    },
    {
      "cell_type": "markdown",
      "metadata": {
        "id": "l68FT_F2J7Bd"
      },
      "source": [
        "Khi bạn tạo một đối tượng Pandas bằng hàm tạo Dataframe trong ngôn ngữ API, đó là một \"thực thể\". Dữ liệu trong dictionary được chuyển tới API pandas. Sau đó, bạn sử dụng dataframe để giao tiếp với API."
      ]
    },
    {
      "cell_type": "code",
      "metadata": {
        "jupyter": {
          "outputs_hidden": false
        },
        "id": "30iMAp8qJ7Be"
      },
      "source": [
        "df=pd.DataFrame(dict_)\n",
        "type(df)"
      ],
      "execution_count": null,
      "outputs": []
    },
    {
      "cell_type": "markdown",
      "metadata": {
        "id": "b8MSAdRwJ7Be"
      },
      "source": [
        "<img src = \"https://cf-courses-data.s3.us.cloud-object-storage.appdomain.cloud/IBMDeveloperSkillsNetwork-PY0101EN-SkillsNetwork/labs/Module%205/images/pandas_api.png\" width = 800, align = \"center\" alt=\"logistic regression block diagram\" />\n"
      ]
    },
    {
      "cell_type": "markdown",
      "metadata": {
        "id": "ZG8Y7qhlJ7Bf"
      },
      "source": [
        "Khi bạn gọi phương thức head, dataframe sẽ giao tiếp với API hiển thị một vài hàng đầu tiên của dataframe."
      ]
    },
    {
      "cell_type": "code",
      "metadata": {
        "jupyter": {
          "outputs_hidden": false
        },
        "id": "ZZINgPBcJ7Bf"
      },
      "source": [
        "df.head()"
      ],
      "execution_count": null,
      "outputs": []
    },
    {
      "cell_type": "markdown",
      "metadata": {
        "id": "IKOnB5p2J7Bf"
      },
      "source": [
        "Khi bạn gọi phương thức mean, API sẽ tính giá trị trung bình và trả về giá trị."
      ]
    },
    {
      "cell_type": "code",
      "metadata": {
        "jupyter": {
          "outputs_hidden": false
        },
        "id": "TDTOn7dWJ7Bf"
      },
      "source": [
        "df.mean()"
      ],
      "execution_count": null,
      "outputs": []
    },
    {
      "cell_type": "markdown",
      "metadata": {
        "id": "9CQleqc9J7Bg"
      },
      "source": [
        "##<h2 id=\"ref1\">REST API</h2>\n"
      ]
    },
    {
      "cell_type": "markdown",
      "metadata": {
        "id": "5YhPPNcbJ7Bg"
      },
      "source": [
        "Hàm của Rest API gửi một request (yêu cầu), request được truyền đạt qua thông điệp HTTP. Thông điệp HTTP thường chứa tệp JSON. Nó chứa các hướng dẫn về thao tác mà chúng ta muốn dịch vụ hoặc tài nguyên thực hiện. Theo cách tương tự, API trả về một response (phản hồi), thông qua một thông điệp HTTP, response này thường được chứa trong một JSON.\n",
        "\n",
        "Trong tiền điện tử, đây là một phương pháp phổ biến để hiển thị chuyển động giá của một loại tiền tệ.\n",
        "\n",
        "![Example Candlestick Graph](https://cf-courses-data.s3.us.cloud-object-storage.appdomain.cloud/IBMDeveloperSkillsNetwork-PY0101EN-SkillsNetwork/labs/Module%205/candlestick.png)\n",
        "\n",
        "Đây là mô tả biểu đồ hình nến.\n",
        "\n",
        "<img src=\"https://cf-courses-data.s3.us.cloud-object-storage.appdomain.cloud/IBMDeveloperSkillsNetwork-PY0101EN-SkillsNetwork/labs/Module%205/explanation.png\" alt=\"Candle Stick Definition\" width=\"800\" height=\"600\">\n",
        "\n",
        "Trong lab này, chúng ta sẽ sử dụng <a href=https://www.coingecko.com/en/api>CoinGecko API</a> để tạo một trong những biểu đồ hình nến này cho Bitcoin. Chúng ta sẽ sử dụng API để lấy dữ liệu giá trong 30 ngày với 24 lần quan sát mỗi ngày, 1 lần quan sát mỗi giờ. Chúng ta sẽ tìm giá tối đa, giá tối thiểu, giá mở và giá đóng cửa mỗi ngày, nghĩa là chúng ta sẽ có 30 hình nến và sử dụng chúng để tạo biểu đồ hình nến. Mặc dù đang sử dụng API CoinGecko, chúng ta sẽ sử dụng client/wrapper Python cho API có tên <a href=https://github.com/man-c/pycoingecko> PyCoinGecko</a>. PyCoinGecko sẽ giúp thực hiện các yêu cầu dễ dàng và nó sẽ giải quyết việc nhắm mục tiêu đầu cuối (enpoint).\n"
      ]
    },
    {
      "cell_type": "markdown",
      "metadata": {
        "id": "LeqTfxVjJ7Bh"
      },
      "source": [
        "Hãy bắt đầu bằng cách lấy dữ liệu chúng ta cần. Sử dụng <code> get_coin_market_chart_by_id(id, vs_currency, days)</code>. <code> id</code> là tên của đồng tiền bạn muốn, <code> vs_currency</code> là đơn vị tiền tệ bạn muốn định giá và <code>days</code> là bao nhiêu ngày tính trở lại kể từ hôm nay."
      ]
    },
    {
      "cell_type": "code",
      "metadata": {
        "id": "0o08iqc2J7Bh"
      },
      "source": [
        "cg = CoinGeckoAPI()\n",
        "\n",
        "bitcoin_data = cg.get_coin_market_chart_by_id(id='bitcoin', vs_currency='usd', days=30)"
      ],
      "execution_count": null,
      "outputs": []
    },
    {
      "cell_type": "code",
      "metadata": {
        "id": "7J18-be5J7Bh"
      },
      "source": [
        "type(bitcoin_data )"
      ],
      "execution_count": null,
      "outputs": []
    },
    {
      "cell_type": "markdown",
      "metadata": {
        "id": "GUsPUxJmJ7Bi"
      },
      "source": [
        "Response mà chúng ta nhận được ở dạng JSON bao gồm giá cả, giới hạn thị trường và tổng khối lượng cùng với dấu thời gian cho mỗi lần quan sát. Vì chúng ta tập trung vào giá cả nên sẽ chọn dữ liệu đó."
      ]
    },
    {
      "cell_type": "code",
      "metadata": {
        "id": "ajhzFQx2J7Bi"
      },
      "source": [
        "bitcoin_price_data = bitcoin_data['prices']\n",
        "\n",
        "bitcoin_price_data[0:5]"
      ],
      "execution_count": null,
      "outputs": []
    },
    {
      "cell_type": "markdown",
      "metadata": {
        "id": "Rrya86yhJ7Bi"
      },
      "source": [
        "Cuối cùng, hãy biến dữ liệu này thành Pandas Dataframe."
      ]
    },
    {
      "cell_type": "code",
      "metadata": {
        "id": "iGfaUjacJ7Bj"
      },
      "source": [
        "data = pd.DataFrame(bitcoin_price_data, columns=['TimeStamp', 'Price'])"
      ],
      "execution_count": null,
      "outputs": []
    },
    {
      "cell_type": "markdown",
      "metadata": {
        "id": "_5Ya6OVbJ7Bj"
      },
      "source": [
        "Bây giờ đã có Dataframe, chúng ta sẽ chuyển đổi dấu thời gian thành datetime và lưu nó thành một cột có tên là <code> Date</code>. Chúng ta sẽ ánh xạ <code> unix_to_datetime</code> tới từng dấu thời gian và chuyển nó thành ngày giờ có thể đọc được."
      ]
    },
    {
      "cell_type": "code",
      "metadata": {
        "id": "AcIsZ_W_J7Bj"
      },
      "source": [
        "data['Date'] = pd.to_datetime(data['TimeStamp'], unit='ms')"
      ],
      "execution_count": null,
      "outputs": []
    },
    {
      "cell_type": "markdown",
      "metadata": {
        "id": "BUe6gRSrJ7Bj"
      },
      "source": [
        "Bằng cách sử dụng tập dữ liệu đã sửa đổi này, giờ đây chúng ta có thể nhóm theo <code>Date</code> và tìm giá tối thiểu, tối đa, mở và đóng cho các biểu đồ hình nến."
      ]
    },
    {
      "cell_type": "code",
      "metadata": {
        "id": "UA_smJQ3J7Bj"
      },
      "source": [
        "candlestick_data = data.groupby(data.Date.dt.date, as_index=False).agg({\"Price\": ['min', 'max', 'first', 'last']})"
      ],
      "execution_count": null,
      "outputs": []
    },
    {
      "cell_type": "markdown",
      "metadata": {
        "id": "J4CyC0A4J7Bk"
      },
      "source": [
        "Cuối cùng, chúng ta đã sẵn sàng để tạo Biểu đồ hình nến."
      ]
    },
    {
      "cell_type": "code",
      "metadata": {
        "id": "ZJM0BrXQJ7Bk"
      },
      "source": [
        "fig = go.Figure(data=[go.Candlestick(x=data['Date'],\n",
        "                open=candlestick_data['Price']['first'],\n",
        "                high=candlestick_data['Price']['max'],\n",
        "                low=candlestick_data['Price']['min'],\n",
        "                close=candlestick_data['Price']['last'])\n",
        "                ])\n",
        "\n",
        "fig.update_layout(xaxis_rangeslider_visible=False)\n",
        "\n",
        "fig.show()"
      ],
      "execution_count": null,
      "outputs": []
    },
    {
      "cell_type": "code",
      "metadata": {
        "id": "YlABNcfRJ7Bl"
      },
      "source": [],
      "execution_count": null,
      "outputs": []
    }
  ]
}