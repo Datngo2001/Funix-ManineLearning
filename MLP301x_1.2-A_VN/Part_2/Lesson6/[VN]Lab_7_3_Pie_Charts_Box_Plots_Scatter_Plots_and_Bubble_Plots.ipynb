{
  "nbformat": 4,
  "nbformat_minor": 0,
  "metadata": {
    "kernelspec": {
      "display_name": "Python 3",
      "language": "python",
      "name": "python3"
    },
    "language_info": {
      "codemirror_mode": {
        "name": "ipython",
        "version": 3
      },
      "file_extension": ".py",
      "mimetype": "text/x-python",
      "name": "python",
      "nbconvert_exporter": "python",
      "pygments_lexer": "ipython3",
      "version": "3.7.6"
    },
    "colab": {
      "provenance": []
    }
  },
  "cells": [
    {
      "cell_type": "markdown",
      "metadata": {
        "button": false,
        "new_sheet": false,
        "run_control": {
          "read_only": false
        },
        "id": "rZyPlLe6hzHG"
      },
      "source": [
        "# Biểu đồ tròn, biểu đồ hộp, biểu đồ phân tán và biểu đồ bong bóng\n",
        "\n",
        "Thời lượng ước tính: **30** phút\n",
        "\n",
        "## Mục tiêu\n",
        "\n",
        "Sau khi hoàn thành lab này, bạn sẽ có thể:\n",
        "\n",
        "*   Khám phá thêm về thư viện Matplotlib\n",
        "*   Tạo biểu đồ tròn, biểu đồ hộp, biểu đồ phân tán và biểu đồ bong bóng\n"
      ]
    },
    {
      "cell_type": "markdown",
      "metadata": {
        "button": false,
        "new_sheet": false,
        "run_control": {
          "read_only": false
        },
        "id": "FtPqA4gJhzHI"
      },
      "source": [
        "## Mục lục\n",
        "\n",
        "<div class=\"alert alert-block alert-info\" style=\"margin-top: 20px\">\n",
        "\n",
        "1.  [Khám phá tập dữ liệu với *pandas*](#0)<br>\n",
        "2.  [Download và chuẩn bị dữ liệu](#2)<br>\n",
        "3.  [Trực quan hóa dữ liệu với Matplotlib](#4) <br>\n",
        "4.  [Biểu đồ tròn](#6) <br>\n",
        "5.  [Biểu đồ hộp](#8) <br>\n",
        "6.  [Biểu đồ phân tán](#10) <br>\n",
        "7.  [Biểu đồ bong bóng](#12) <br>\n",
        "\n",
        "</div>\n"
      ]
    },
    {
      "cell_type": "markdown",
      "metadata": {
        "button": false,
        "new_sheet": false,
        "run_control": {
          "read_only": false
        },
        "id": "_kJm-zB6hzHJ"
      },
      "source": [
        "# Khám phá tập dữ liệu với *pandas* và Matplotlib<a id=\"0\"></a>\n",
        "\n",
        "Bộ công cụ: Khóa học phần lớn dùng [*pandas*](http://pandas.pydata.org/?utm_medium=Exinfluencer\\&utm_source=Exinfluencer\\&utm_content=000026UJ\\&utm_term=10006555\\&utm_id=NA-SkillsNetwork-Channel-SkillsNetworkCoursesIBMDeveloperSkillsNetworkDV0101ENSkillsNetwork20297740-2021-01-01) và [**Numpy**](http://www.numpy.org/?utm_medium=Exinfluencer\\&utm_source=Exinfluencer\\&utm_content=000026UJ\\&utm_term=10006555\\&utm_id=NA-SkillsNetwork-Channel-SkillsNetworkCoursesIBMDeveloperSkillsNetworkDV0101ENSkillsNetwork20297740-2021-01-01) cho việc dọn dẹp, phân tích và trực quan hóa dữ liệu. Thư viện vẽ biểu đồ chính mà chúng ta sẽ khám phá là [Matplotlib](http://matplotlib.org/?utm_medium=Exinfluencer\\&utm_source=Exinfluencer\\&utm_content=000026UJ\\&utm_term=10006555\\&utm_id=NA-SkillsNetwork-Channel-SkillsNetworkCoursesIBMDeveloperSkillsNetworkDV0101ENSkillsNetwork20297740-2021-01-01).\n",
        "\n",
        "Tập dữ liệu: Nhập cư tới Canada từ 1980 tới 2013 - [International migration flows to and from selected countries - The 2015 revision](http://www.un.org/en/development/desa/population/migration/data/empirical2/migrationflows.shtml?utm_medium=Exinfluencer\\&utm_source=Exinfluencer\\&utm_content=000026UJ\\&utm_term=10006555\\&utm_id=NA-SkillsNetwork-Channel-SkillsNetworkCoursesIBMDeveloperSkillsNetworkDV0101ENSkillsNetwork20297740-2021-01-01) từ trang web của Liên Hợp Quốc.\n",
        "\n",
        "Tập dữ liệu chứa dữ liệu hàng năm về dòng người di cư quốc tế được ghi lại bởi các quốc gia điểm đến. Dữ liệu thể hiện cả dòng vào và dòng ra theo nơi sinh, quốc tịch hoặc nơi cư trú trước đây / tiếp theo của cả người nước ngoài và người mang quốc tịch. Trong bài học này, chúng ta sẽ tập trung vào dữ liệu Nhập cư Canada.\n"
      ]
    },
    {
      "cell_type": "markdown",
      "metadata": {
        "button": false,
        "new_sheet": false,
        "run_control": {
          "read_only": false
        },
        "id": "DDWVIH33hzHJ"
      },
      "source": [
        "# Download và chuẩn bị dữ liệu <a id=\"2\"></a>\n"
      ]
    },
    {
      "cell_type": "markdown",
      "metadata": {
        "button": false,
        "new_sheet": false,
        "run_control": {
          "read_only": false
        },
        "id": "FvCv_ycwhzHJ"
      },
      "source": [
        "Import mô-đun chính.\n"
      ]
    },
    {
      "cell_type": "code",
      "metadata": {
        "button": false,
        "jupyter": {
          "outputs_hidden": false
        },
        "new_sheet": false,
        "run_control": {
          "read_only": false
        },
        "id": "0wqnQ_VehzHK"
      },
      "source": [
        "import numpy as np  # hữu ích với nhiều tính toán khoa học trong Python\n",
        "import pandas as pd # thư viện cấu trúc dữ liệu chính"
      ],
      "execution_count": null,
      "outputs": []
    },
    {
      "cell_type": "markdown",
      "metadata": {
        "button": false,
        "new_sheet": false,
        "run_control": {
          "read_only": false
        },
        "id": "B7mUu0JdhzHK"
      },
      "source": [
        "Hãy download và import tập dữ liệu Canadian Immigration chính của chúng tôi bằng phương thức _pandas_ `read_excel()`. Thông thường, chúng ta sẽ cần download một mô-đun _pandas_ yêu cầu đọc trong file excel trước khi có thể làm điều đó. Mô-đun này là **xlrd**. Để thuận tiện cho bạn, chúng tôi đã cài đặt sẵn mô-đun này, vì vậy bạn sẽ không phải lo lắng về điều đó. Nếu không, bạn sẽ cần chạy dòng code sau để cài đặt mô-đun **xlrd**:\n",
        "\n",
        "```\n",
        "!conda install -c anaconda xlrd --yes\n",
        "```\n"
      ]
    },
    {
      "cell_type": "markdown",
      "metadata": {
        "button": false,
        "new_sheet": false,
        "run_control": {
          "read_only": false
        },
        "id": "Jl7rvbZEhzHK"
      },
      "source": [
        "Download tập dữ liệu và đọc nó thành dataframe *pandas*.\n"
      ]
    },
    {
      "cell_type": "code",
      "metadata": {
        "button": false,
        "jupyter": {
          "outputs_hidden": false
        },
        "new_sheet": false,
        "run_control": {
          "read_only": false
        },
        "id": "Htt74mTLhzHL"
      },
      "source": [
        "df_can = pd.read_excel('https://cf-courses-data.s3.us.cloud-object-storage.appdomain.cloud/IBMDeveloperSkillsNetwork-DV0101EN-SkillsNetwork/Data%20Files/Canada.xlsx',\n",
        "                       sheet_name='Canada by Citizenship',\n",
        "                       skiprows=range(20),\n",
        "                       skipfooter=2\n",
        "                      )\n",
        "\n",
        "print('Data downloaded and read into a dataframe!')"
      ],
      "execution_count": null,
      "outputs": []
    },
    {
      "cell_type": "markdown",
      "metadata": {
        "button": false,
        "new_sheet": false,
        "run_control": {
          "read_only": false
        },
        "id": "KHTiGnqMhnK_"
      },
      "source": [
        "Hãy xem 5 mục đầu của tập dữ liệu.\n"
      ]
    },
    {
      "cell_type": "code",
      "metadata": {
        "button": false,
        "jupyter": {
          "outputs_hidden": false
        },
        "new_sheet": false,
        "run_control": {
          "read_only": false
        },
        "id": "ieqOzaDthzHL"
      },
      "source": [
        "df_can.head()"
      ],
      "execution_count": null,
      "outputs": []
    },
    {
      "cell_type": "markdown",
      "metadata": {
        "button": false,
        "new_sheet": false,
        "run_control": {
          "read_only": false
        },
        "id": "mhxXbqVrhnK_"
      },
      "source": [
        "Hãy xem có bao nhiêu mục nhập trong tập dữ liệu."
      ]
    },
    {
      "cell_type": "code",
      "metadata": {
        "button": false,
        "jupyter": {
          "outputs_hidden": false
        },
        "new_sheet": false,
        "run_control": {
          "read_only": false
        },
        "id": "0yTNRbDVhzHM"
      },
      "source": [
        "# in ra các kích thước của dataframe\n",
        "print(df_can.shape)"
      ],
      "execution_count": null,
      "outputs": []
    },
    {
      "cell_type": "markdown",
      "metadata": {
        "button": false,
        "new_sheet": false,
        "run_control": {
          "read_only": false
        },
        "id": "NbCG2TjqhzHM"
      },
      "source": [
        "Dọn dẹp dữ liệu. Chúng ta sẽ thực hiện một số sửa đổi với tập dữ liệu gốc để giúp việc tạo hình ảnh trực quan dễ dàng hơn. Tham khảo lab *Introduction to Matplotlib and Line Plots* và *Area Plots, Histograms, and Bar Plots* để xem mô tả chi tiết về tiền xử lý này."
      ]
    },
    {
      "cell_type": "code",
      "metadata": {
        "button": false,
        "jupyter": {
          "outputs_hidden": false
        },
        "new_sheet": false,
        "run_control": {
          "read_only": false
        },
        "id": "sJPESmaMhzHM"
      },
      "source": [
        "# dọn dẹp tập dữ liệu để loại bỏ các cột không cần thiết (chẳng hạn: REG)\n",
        "df_can.drop(['AREA', 'REG', 'DEV', 'Type', 'Coverage'], axis=1, inplace=True)\n",
        "\n",
        "# đặt lại tên các cột để dễ hiểu hơn\n",
        "df_can.rename(columns={'OdName':'Country', 'AreaName':'Continent','RegName':'Region'}, inplace=True)\n",
        "\n",
        "# để thống nhất, hãy để tất cả các cột kiểu string\n",
        "df_can.columns = list(map(str, df_can.columns))\n",
        "\n",
        "# đặt tên quốc gia làm chỉ mục - hữu ích khi tra cứu nhanh các quốc gia bằng phương thức .loc\n",
        "df_can.set_index('Country', inplace=True)\n",
        "\n",
        "# thêm cột total\n",
        "df_can['Total'] = df_can.sum(axis=1)\n",
        "\n",
        "# years mà chúng ta sẽ dừng trong bài này - sẽ hữu ích cho vẽ biểu đồ sau đó\n",
        "years = list(map(str, range(1980, 2014)))\n",
        "print('data dimensions:', df_can.shape)"
      ],
      "execution_count": null,
      "outputs": []
    },
    {
      "cell_type": "markdown",
      "metadata": {
        "button": false,
        "new_sheet": false,
        "run_control": {
          "read_only": false
        },
        "id": "hV3SrChKhzHN"
      },
      "source": [
        "# Trực quan hóa dữ liệu với Matplotlib<a id=\"4\"></a>\n"
      ]
    },
    {
      "cell_type": "markdown",
      "metadata": {
        "button": false,
        "new_sheet": false,
        "run_control": {
          "read_only": false
        },
        "id": "gyyeIzjHhzHN"
      },
      "source": [
        "Import `Matplotlib`.\n"
      ]
    },
    {
      "cell_type": "code",
      "metadata": {
        "button": false,
        "jupyter": {
          "outputs_hidden": false
        },
        "new_sheet": false,
        "run_control": {
          "read_only": false
        },
        "id": "NSzwHwLhhzHN"
      },
      "source": [
        "%matplotlib inline\n",
        "\n",
        "import matplotlib as mpl\n",
        "import matplotlib.pyplot as plt\n",
        "\n",
        "mpl.style.use('ggplot') # tùy chọn: style ggplot\n",
        "\n",
        "# kiểm tra phiên bản mới nhất của Matplotlib\n",
        "print('Matplotlib version: ', mpl.__version__) # >= 2.0.0"
      ],
      "execution_count": null,
      "outputs": []
    },
    {
      "cell_type": "markdown",
      "metadata": {
        "button": false,
        "new_sheet": false,
        "run_control": {
          "read_only": false
        },
        "id": "7YaCezYbO-C4"
      },
      "source": [
        "# Biểu đồ tròn <a id=\"6\"></a>\n",
        "\n",
        "`Biểu đồ tròn` là một đồ họa hình tròn hiển thị tỷ lệ số bằng cách chia hình tròn thành các phần theo tỷ lệ. Có thể bạn đã quen thuộc với biểu đồ tròn vì nó được sử dụng rộng rãi trong kinh doanh và truyền thông. Chúng ta có thể tạo biểu đồ tròn trong Matplotlib bằng cách truyền từ khóa `kind=pie` vào.\n",
        "\n",
        "Hãy sử dụng biểu đồ tròn để tìm hiểu tỷ lệ (%) của những người nhập cư mới được nhóm theo lục địa trong khoảng thời gian từ 1980 đến 2013.\n"
      ]
    },
    {
      "cell_type": "markdown",
      "metadata": {
        "button": false,
        "new_sheet": false,
        "run_control": {
          "read_only": false
        },
        "id": "DmL6GL4hO-C5"
      },
      "source": [
        "Bước 1: Thu thập dữ liệu.\n",
        "\n",
        "Chúng ta sẽ sử dụng phương thức _pandas_ `groupby` để tóm tắt dữ liệu nhập cư theo `Continent`. Quy trình chung của `groupby` gồm các bước sau:\n",
        "\n",
        "1.  **Split:** Chia dữ liệu thành các nhóm dựa trên một số tiêu chí.\n",
        "2.  **Apply:** Áp dụng một hàm cho từng nhóm cách độc lập:\n",
        "       .sum()\n",
        "       .count()\n",
        "       .mean()\n",
        "       .std()\n",
        "       .aggregate()\n",
        "       .apply()\n",
        "       .etc..\n",
        "3.  **Combine:** Kết hợp các kết quả thành một cấu trúc dữ liệu."
      ]
    },
    {
      "cell_type": "markdown",
      "metadata": {
        "button": false,
        "new_sheet": false,
        "run_control": {
          "read_only": false
        },
        "id": "7xHNAeLlhzHO"
      },
      "source": [
        "<img src=\"https://cf-courses-data.s3.us.cloud-object-storage.appdomain.cloud/IBMDeveloperSkillsNetwork-DV0101EN-SkillsNetwork/labs/Module%203/images/Mod3Fig4SplitApplyCombine.png\" height=400 align=\"center\">\n"
      ]
    },
    {
      "cell_type": "code",
      "metadata": {
        "button": false,
        "jupyter": {
          "outputs_hidden": false
        },
        "new_sheet": false,
        "run_control": {
          "read_only": false
        },
        "id": "j2h4wrChhzHO"
      },
      "source": [
        "# nhóm các quốc gia theo lục địa và áp dụng hàm sum()\n",
        "df_continents = df_can.groupby('Continent', axis=0).sum()\n",
        "\n",
        "# lưu ý: kết quả của phương thức groupby là một đối tượng `groupby'.\n",
        "# chúng ta không thể sử dụng nó thêm cho tới khi vận dụng một hàm (chẳng han: .sum())\n",
        "print(type(df_can.groupby('Continent', axis=0)))\n",
        "\n",
        "df_continents.head()"
      ],
      "execution_count": null,
      "outputs": []
    },
    {
      "cell_type": "markdown",
      "metadata": {
        "button": false,
        "new_sheet": false,
        "run_control": {
          "read_only": false
        },
        "id": "7HZiEZIBO-C6"
      },
      "source": [
        "Bước 2: Vẽ biểu đồ dữ liệu. Chúng ta sẽ truyền vào từ khóa `kind='pie'` cùng với các tham số bổ sung sau:\n",
        "\n",
        "-   `autopct` -  là một string hoặc hàm được sử dụng để gắn nhãn các wedget với giá trị số của chúng. Nhãn sẽ được đặt bên trong wedget. Nếu đó là định dạng string, nhãn sẽ là `fmt%pct`.\n",
        "-   `startangle` - xoay phần bắt đầu của biểu đồ tròn theo độ góc ngược chiều kim đồng hồ so với trục x.\n",
        "-   `shadow` - Vẽ bóng bên dưới biểu đồ tròn (để tạo cảm giác 3D).\n"
      ]
    },
    {
      "cell_type": "code",
      "metadata": {
        "button": false,
        "jupyter": {
          "outputs_hidden": false
        },
        "new_sheet": false,
        "run_control": {
          "read_only": false
        },
        "id": "INws1HkOhzHO"
      },
      "source": [
        "# autopct tạo %, bắt đầu góc thể hiện điểm khởi đầu\n",
        "df_continents['Total'].plot(kind='pie',\n",
        "                            figsize=(5, 6),\n",
        "                            autopct='%1.1f%%', # thêm %\n",
        "                            startangle=90,     # bắt đầu góc 90° (Africa)\n",
        "                            shadow=True,       # thêm bóng\n",
        "                            )\n",
        "\n",
        "plt.title('Immigration to Canada by Continent [1980 - 2013]')\n",
        "plt.axis('equal') # thiết lập biểu đồ tròn để giống hình tròn\n",
        "\n",
        "plt.show()"
      ],
      "execution_count": null,
      "outputs": []
    },
    {
      "cell_type": "markdown",
      "metadata": {
        "button": false,
        "new_sheet": false,
        "run_control": {
          "read_only": false
        },
        "id": "rXY_aT0oO-C7"
      },
      "source": [
        "Hình ảnh trên không được rõ ràng lắm, trong một số trường hợp, số và văn bản trùng lặp. Hãy thực hiện một số sửa đổi để cải thiện hình ảnh:\n",
        "\n",
        "-   Xóa các nhãn văn bản trên biểu đồ tròn bằng cách chuyển vào `legend` và thêm nó dưới dạng chú giải riêng biệt bằng `plt.legend()`.\n",
        "-   Đẩy tỷ lệ phần trăm nằm ngay bên ngoài biểu đồ tròn bằng cách chuyển vào tham số `pctdistance`.\n",
        "-   Chuyển một tập màu tùy chỉnh cho các lục địa bằng cách chuyển vào tham số `color`.\n",
        "-   **Explode** biểu đồ tròn để nhấn mạnh 3 lục địa thấp nhất (Châu Phi, Bắc Mỹ và Mỹ Latinh và Carribbean) bằng cách truyền vào tham số `explode`.\n"
      ]
    },
    {
      "cell_type": "code",
      "metadata": {
        "button": false,
        "jupyter": {
          "outputs_hidden": false
        },
        "new_sheet": false,
        "run_control": {
          "read_only": false
        },
        "id": "m8P9K0QchzHP"
      },
      "source": [
        "colors_list = ['gold', 'yellowgreen', 'lightcoral', 'lightskyblue', 'lightgreen', 'pink']\n",
        "explode_list = [0.1, 0, 0, 0, 0.1, 0.1] # tỷ lệ cho mỗi lục địa để bù đắp mỗi wedge.\n",
        "\n",
        "df_continents['Total'].plot(kind='pie',\n",
        "                            figsize=(15, 6),\n",
        "                            autopct='%1.1f%%',\n",
        "                            startangle=90,\n",
        "                            shadow=True,\n",
        "                            labels=None,         # tắt các nhãn trên biểu đồ tròn\n",
        "                            pctdistance=1.12,    # tỷ lệ giữa tâm của mỗi lát biểu đồ và phần đầu của văn bản được tạo bởi autopct\n",
        "                            colors=colors_list,  # thêm màu tùy chỉnh\n",
        "                            explode=explode_list # 'explode' 3 lục địa thấp nhất\n",
        "                            )\n",
        "\n",
        "# mở rộng tiêu đề lên 12% để khớp với pctdistance\n",
        "plt.title('Immigration to Canada by Continent [1980 - 2013]', y=1.12)\n",
        "\n",
        "plt.axis('equal')\n",
        "\n",
        "# thêm legend\n",
        "plt.legend(labels=df_continents.index, loc='upper left')\n",
        "\n",
        "plt.show()"
      ],
      "execution_count": null,
      "outputs": []
    },
    {
      "cell_type": "markdown",
      "metadata": {
        "button": false,
        "new_sheet": false,
        "run_control": {
          "read_only": false
        },
        "id": "UQ7ELdMBO-C8"
      },
      "source": [
        "**Câu hỏi:** Hãy tìm hiểu tỷ lệ (%) dân nhập cư mới theo các lục địa trong năm 2013 qua biểu đồ tròn.\n",
        "\n",
        "**Lưu ý**: Bạn có thể thử với các giá trị để sửa bất kỳ giá trị lát chồng chéo nào."
      ]
    },
    {
      "cell_type": "code",
      "metadata": {
        "button": false,
        "jupyter": {
          "outputs_hidden": false
        },
        "new_sheet": false,
        "run_control": {
          "read_only": false
        },
        "id": "HcKIiMophzHP"
      },
      "source": [
        "### nhập đáp án của bạn ở đây\n",
        "\n",
        "explode_list = [0.0, 0, 0, 0.1, 0.1, 0.2] # tỷ lệ cho mỗi lục địa để bù đắp mỗi wedge.\n",
        "df_continents['2013'].plot(kind='pie',\n",
        "                            figsize=(15, 6),\n",
        "                            autopct='%1.1f%%',\n",
        "                            startangle=90,\n",
        "                            shadow=True,\n",
        "                            labels=None,                 # tắt các nhãn trên biểu đồ tròn\n",
        "                            pctdistance=1.12,            # tỷ lệ giữa tâm của mỗi lát biểu đồ và phần đầu của nhãn văn bản\n",
        "                            explode=explode_list         # 'explode' 3 lục địa thấp nhất\n",
        "                            )\n"
      ],
      "execution_count": null,
      "outputs": []
    },
    {
      "cell_type": "markdown",
      "metadata": {
        "button": false,
        "new_sheet": false,
        "run_control": {
          "read_only": false
        },
        "id": "4NxnhVn7hzHP"
      },
      "source": [
        "<details><summary>Click vào đây để xem lời giải mẫu trong python</summary>\n",
        "\n",
        "```python\n",
        "    #The correct answer is:\n",
        "    explode_list = [0.0, 0, 0, 0.1, 0.1, 0.2] # ratio for each continent with which to offset each wedge.\n",
        "\n",
        "    df_continents['2013'].plot(kind='pie',\n",
        "                                figsize=(15, 6),\n",
        "                                autopct='%1.1f%%',\n",
        "                                startangle=90,    \n",
        "                                shadow=True,       \n",
        "                                labels=None,                 # turn off labels on pie chart\n",
        "                                pctdistance=1.12,            # the ratio between the pie center and start of text label\n",
        "                                explode=explode_list         # 'explode' lowest 3 continents\n",
        "                                )\n",
        "\n",
        "    # scale the title up by 12% to match pctdistance\n",
        "    plt.title('Immigration to Canada by Continent in 2013', y=1.12)\n",
        "    plt.axis('equal')\n",
        "\n",
        "    # add legend\n",
        "    plt.legend(labels=df_continents.index, loc='upper left')\n",
        "\n",
        "    # show plot\n",
        "    plt.show()\n",
        "\n",
        "```\n",
        "\n",
        "</details>\n"
      ]
    },
    {
      "cell_type": "markdown",
      "metadata": {
        "button": false,
        "new_sheet": false,
        "run_control": {
          "read_only": false
        },
        "id": "dZq1pM4aO-C8"
      },
      "source": [
        "# Biểu đồ hộp <a id=\"8\"></a>\n",
        "\n",
        "`Biểu đồ hộp` là một cách biểu diễn _phân phối_ của dữ liệu thông qua 5 thứ nguyên chính:\n",
        "\n",
        "-   **Minimum (Cực tiểu):** Số nhỏ nhất trong tập dữ liệu không bao gồm các ngoại lệ.\n",
        "- **First quartile (Phần tư thứ nhất):** Số chính giữa giá trị `minimum` và `median`.\n",
        "- **Second quartile (Median):** Số chính giữa của tập dữ liệu (đã sắp xếp).\n",
        "- **Third quartile (Phần tư thứ ba):** Số chính giữa `median` và `maximum`.\n",
        "- **Maximum (Cực đại):** Số cao nhất trong tập dữ liệu không bao gồm các giá trị ngoại lệ.\n"
      ]
    },
    {
      "cell_type": "markdown",
      "metadata": {
        "button": false,
        "new_sheet": false,
        "run_control": {
          "read_only": false
        },
        "id": "KE0qGuEmhzHQ"
      },
      "source": [
        "<img src=\"https://cf-courses-data.s3.us.cloud-object-storage.appdomain.cloud/IBMDeveloperSkillsNetwork-DV0101EN-SkillsNetwork/labs/Module%203/images/boxplot_complete.png\" width=440, align=\"center\">\n"
      ]
    },
    {
      "cell_type": "markdown",
      "metadata": {
        "button": false,
        "new_sheet": false,
        "run_control": {
          "read_only": false
        },
        "id": "SxycJZAUO-C9"
      },
      "source": [
        "Để tạo một `biểu đồ hộp`, chúng ta có thể sử dụng `kind=box` trong phương thức `plot` được gọi trên chuỗi hoặc dataframe _pandas_ .\n",
        "\n",
        "Hãy vẽ biểu đồ hộp cho những người nhập cư Nhật Bản trong giai đoạn 1980-2013.\n"
      ]
    },
    {
      "cell_type": "markdown",
      "metadata": {
        "button": false,
        "new_sheet": false,
        "run_control": {
          "read_only": false
        },
        "id": "7UfLVe4BO-C-"
      },
      "source": [
        "Bước 1: Lấy tập dữ liệu. Mặc dù chỉ trích xuất dữ liệu cho một quốc gia, chúng ta vẫn sẽ lấy dữ liệu đó dưới dạng dataframe. Điều này sẽ giúp chúng ta gọi phương thức `dataframe.describe()` để xem các phân vị.\n"
      ]
    },
    {
      "cell_type": "code",
      "metadata": {
        "button": false,
        "jupyter": {
          "outputs_hidden": false
        },
        "new_sheet": false,
        "run_control": {
          "read_only": false
        },
        "id": "vs-kl57whzHQ"
      },
      "source": [
        "# lấy một dataframe, đặt thêm dấu ngoặc vuông quanh 'Japan'.\n",
        "df_japan = df_can.loc[['Japan'], years].transpose()\n",
        "df_japan.head()"
      ],
      "execution_count": null,
      "outputs": []
    },
    {
      "cell_type": "markdown",
      "metadata": {
        "button": false,
        "new_sheet": false,
        "run_control": {
          "read_only": false
        },
        "id": "1JrEZT5shzHQ"
      },
      "source": [
        "Bước 2: Vẽ biểu đồ bằng cách truyền vào `kind='box'`.\n"
      ]
    },
    {
      "cell_type": "code",
      "metadata": {
        "button": false,
        "jupyter": {
          "outputs_hidden": false
        },
        "new_sheet": false,
        "run_control": {
          "read_only": false
        },
        "id": "6OqaPkOHhzHR"
      },
      "source": [
        "df_japan.plot(kind='box', figsize=(8, 6))\n",
        "\n",
        "plt.title('Box plot of Japanese Immigrants from 1980 - 2013')\n",
        "plt.ylabel('Number of Immigrants')\n",
        "\n",
        "plt.show()"
      ],
      "execution_count": null,
      "outputs": []
    },
    {
      "cell_type": "markdown",
      "metadata": {
        "button": false,
        "new_sheet": false,
        "run_control": {
          "read_only": false
        },
        "id": "2gQSrUOoO-C-"
      },
      "source": [
        "Ngay lập tức, chúng ta có một vài quan sát chính từ biểu đồ trên:\n",
        "\n",
        "1. Số lượng người nhập cư tối thiểu là khoảng 200 (min), số lượng tối đa là khoảng 1300 (max) và số lượng người nhập cư trung bình là khoảng 900 (median).\n",
        "2. 25% số năm trong giai đoạn 1980 - 2013 có số lượng người nhập cư hàng năm là ~ 500 người trở xuống (First quartile).\n",
        "3. 75% số năm trong giai đoạn 1980 - 2013 có số lượng người nhập cư hàng năm là ~ 1100 người trở xuống (Third quartile).\n",
        "\n",
        "Chúng ta có thể xem các số thực tế bằng phương thức `describe()` trên dataframe.\n"
      ]
    },
    {
      "cell_type": "code",
      "metadata": {
        "button": false,
        "jupyter": {
          "outputs_hidden": false
        },
        "new_sheet": false,
        "run_control": {
          "read_only": false
        },
        "id": "TGifpUUJhzHR"
      },
      "source": [
        "df_japan.describe()"
      ],
      "execution_count": null,
      "outputs": []
    },
    {
      "cell_type": "markdown",
      "metadata": {
        "button": false,
        "new_sheet": false,
        "run_control": {
          "read_only": false
        },
        "id": "MNP9MgIrO-C_"
      },
      "source": [
        "Một trong những lợi ích chính của biểu đồ hộp là so sánh sự phân bố của nhiều tập dữ liệu. Trong một trong các lab trước, chúng ta đã quan sát thấy Trung Quốc và Ấn Độ có xu hướng nhập cư rất giống nhau. Hãy phân tích thêm 2 quốc gia này bằng biểu đồ hộp.\n",
        "\n",
        "**Câu hỏi:** So sánh sự phân bố số lượng người nhập cư mới từ Ấn Độ và Trung Quốc trong giai đoạn 1980-2013.\n"
      ]
    },
    {
      "cell_type": "markdown",
      "metadata": {
        "button": false,
        "new_sheet": false,
        "run_control": {
          "read_only": false
        },
        "id": "bA-64IRuO-C_"
      },
      "source": [
        "Bước 1: Lấy tập dữ liệu cho Trung Quốc và Ấn Độ và gọi dataframe **df_CI**.\n"
      ]
    },
    {
      "cell_type": "code",
      "metadata": {
        "button": false,
        "jupyter": {
          "outputs_hidden": false
        },
        "new_sheet": false,
        "run_control": {
          "read_only": false
        },
        "id": "ETaqwtRAhzHR"
      },
      "source": [
        "### nhập đáp án của bạn tạo đây\n",
        "\n",
        "\n"
      ],
      "execution_count": null,
      "outputs": []
    },
    {
      "cell_type": "markdown",
      "metadata": {
        "button": false,
        "new_sheet": false,
        "run_control": {
          "read_only": false
        },
        "id": "V4jlasfuhzHR"
      },
      "source": [
        "<details><summary>Click vào đây để xem lời giải mẫu trong python</summary>\n",
        "\n",
        "```python\n",
        "    #The correct answer is:\n",
        "    df_CI= df_can.loc[['China', 'India'], years].transpose()\n",
        "    df_CI.head()\n",
        "```\n",
        "\n",
        "</details>\n"
      ]
    },
    {
      "cell_type": "markdown",
      "metadata": {
        "button": false,
        "new_sheet": false,
        "run_control": {
          "read_only": false
        },
        "id": "I-wgker6O-C_"
      },
      "source": [
        "Hãy xem tỷ lệ phần trăm liên quan tới cả hai quốc gia bằng phương thức `describe()`.\n"
      ]
    },
    {
      "cell_type": "code",
      "metadata": {
        "button": false,
        "jupyter": {
          "outputs_hidden": false
        },
        "new_sheet": false,
        "run_control": {
          "read_only": false
        },
        "scrolled": true,
        "id": "Vpj8hoHOhzHS"
      },
      "source": [
        "### nhập đáp án của bạn tạo đây\n",
        "\n"
      ],
      "execution_count": null,
      "outputs": []
    },
    {
      "cell_type": "markdown",
      "metadata": {
        "button": false,
        "new_sheet": false,
        "run_control": {
          "read_only": false
        },
        "id": "sSn9yO8phzHS"
      },
      "source": [
        "<details><summary>Click vào đây để xem lời giải mẫu trong python</summary>\n",
        "\n",
        "```python\n",
        "    #The correct answer is:\n",
        "    df_CI.describe()\n",
        "```\n",
        "\n",
        "</details>\n"
      ]
    },
    {
      "cell_type": "markdown",
      "metadata": {
        "button": false,
        "new_sheet": false,
        "run_control": {
          "read_only": false
        },
        "id": "HT4vUqlDO-DA"
      },
      "source": [
        "Bước 2: Vẽ biểu đồ dữ liệu\n"
      ]
    },
    {
      "cell_type": "code",
      "metadata": {
        "button": false,
        "jupyter": {
          "outputs_hidden": false
        },
        "new_sheet": false,
        "run_control": {
          "read_only": false
        },
        "id": "Xi10LiLghzHS"
      },
      "source": [
        "### nhập đáp án của bạn tạo đây\n",
        "\n",
        "\n",
        "\n"
      ],
      "execution_count": null,
      "outputs": []
    },
    {
      "cell_type": "markdown",
      "metadata": {
        "button": false,
        "new_sheet": false,
        "run_control": {
          "read_only": false
        },
        "id": "TaSAgA1ZhzHS"
      },
      "source": [
        "<details><summary>Click vào đây để xem lời giải mẫu trong python</summary>\n",
        "\n",
        "```python\n",
        "    #The correct answer is:\n",
        "    df_CI.plot(kind='box', figsize=(10, 7))\n",
        "\n",
        "    plt.title('Box plots of Immigrants from China and India (1980 - 2013)')\n",
        "    plt.ylabel('Number of Immigrants')\n",
        "\n",
        "    plt.show()\n",
        "\n",
        "```\n",
        "\n",
        "</details>\n"
      ]
    },
    {
      "cell_type": "markdown",
      "metadata": {
        "button": false,
        "new_sheet": false,
        "run_control": {
          "read_only": false
        },
        "id": "ejysLu9PO-DA"
      },
      "source": [
        "Chúng ta có thể thấy rằng, trong khi cả hai quốc gia đều có cùng dân số nhập cư trung bình (~ 20.000 người), thì phạm vi dân số nhập cư của Trung Quốc lại trải rộng hơn so với Ấn Độ. Dân số nhập cư tối đa của Ấn Độ trong bất kỳ năm nào (36.210) cũng thấp hơn khoảng 15% so với dân số tối đa của Trung Quốc (42.584).\n"
      ]
    },
    {
      "cell_type": "markdown",
      "metadata": {
        "button": false,
        "new_sheet": false,
        "run_control": {
          "read_only": false
        },
        "id": "UT9F7AGEO-DA"
      },
      "source": [
        "Nếu bạn muốn tạo các biểu đồ hộp ngang, có thể chuyển tham số `vert` vào hàm **plot** và gán nó cho _False_. Bạn cũng có thể chỉ định một màu khác trong trường hợp bạn không thích màu đỏ mặc định.\n"
      ]
    },
    {
      "cell_type": "code",
      "metadata": {
        "button": false,
        "jupyter": {
          "outputs_hidden": false
        },
        "new_sheet": false,
        "run_control": {
          "read_only": false
        },
        "id": "AmeSVi7mhzHT"
      },
      "source": [
        "# biểu đồ hộp ngang\n",
        "df_CI.plot(kind='box', figsize=(10, 7), color='blue', vert=False)\n",
        "\n",
        "plt.title('Box plots of Immigrants from China and India (1980 - 2013)')\n",
        "plt.xlabel('Number of Immigrants')\n",
        "\n",
        "plt.show()"
      ],
      "execution_count": null,
      "outputs": []
    },
    {
      "cell_type": "markdown",
      "metadata": {
        "button": false,
        "new_sheet": false,
        "run_control": {
          "read_only": false
        },
        "id": "iS1QDXnUhzHT"
      },
      "source": [
        "**Subplots**\n",
        "\n",
        "Đôi khi chúng ta muốn vẽ nhiều biểu đồ trong cùng một hình. Ví dụ: chúng ta muốn thực hiện so sánh song song giữa biểu đồ hộp với biểu đồ đường biểu thị sự nhập cư của Trung Quốc và Ấn Độ.\n",
        "\n",
        "Để hiển thị nhiều biểu đồ với nhau, chúng ta có thể tạo một **`figure`** (canvas tổng thể) và chia nó thành **`subplots`**, mỗi subplot chứa một biểu đồ. Với **subplots**, chúng ta thường làm việc với **lớp artist** thay vì **lớp scripting**.\n",
        "\n",
        "Cú pháp thông thường là: <br>\n",
        "\n",
        "```python\n",
        "    fig = plt.figure() # tạo figure\n",
        "    ax = fig.add_subplot(nrows, ncols, plot_number) # tạo subplots\n",
        "```\n",
        "\n",
        "trong đó:\n",
        "\n",
        "*   `nrows` và `ncols` được sử dụng để chia nhơ hình thành (`nrows` \\* `ncols`) các trục con,\n",
        "*   `plot_number` được dùng để xác định các subplot cụ thể mà hàm này tạo ra trong lưới giả định. `plot_number` bắt đầu từ 1, tăng dần trên các hàng và có tối đa `nrows` \\* `ncols` như hiển thị bên dưới.\n",
        "\n",
        "<img src=\"https://cf-courses-data.s3.us.cloud-object-storage.appdomain.cloud/IBMDeveloperSkillsNetwork-DV0101EN-SkillsNetwork/labs/Module%203/images/Mod3Fig5Subplots_V2.png\" width=500 align=\"center\">\n"
      ]
    },
    {
      "cell_type": "markdown",
      "metadata": {
        "button": false,
        "new_sheet": false,
        "run_control": {
          "read_only": false
        },
        "id": "UY5NJLYMO-DB"
      },
      "source": [
        "Sau đó, chúng ta có thể chỉ định subplot nào để đặt từng biểu đồ bằng cách truyền vào tham số `ax` trong phương thức `plot()` như sau:\n"
      ]
    },
    {
      "cell_type": "code",
      "metadata": {
        "button": false,
        "jupyter": {
          "outputs_hidden": false
        },
        "new_sheet": false,
        "run_control": {
          "read_only": false
        },
        "id": "gx9aoEnphzHT"
      },
      "source": [
        "fig = plt.figure() # tạo figure\n",
        "\n",
        "ax0 = fig.add_subplot(1, 2, 1) # thêm subplot 1 (1 hàng, 2 cột, biểu đồ đầu tiên)\n",
        "ax1 = fig.add_subplot(1, 2, 2) # thêm subplot 2 (1 hàng, 2 cột, biểu đồ thứ hai). Xem gợi ý dưới đây**\n",
        "\n",
        "# Subplot 1: Biểu đồ hộp\n",
        "df_CI.plot(kind='box', color='blue', vert=False, figsize=(20, 6), ax=ax0) # thêm vào subplot 1\n",
        "ax0.set_title('Box Plots of Immigrants from China and India (1980 - 2013)')\n",
        "ax0.set_xlabel('Number of Immigrants')\n",
        "ax0.set_ylabel('Countries')\n",
        "\n",
        "# Subplot 2: Biểu đồ đường\n",
        "df_CI.plot(kind='line', figsize=(20, 6), ax=ax1) # thêm vào subplot 2\n",
        "ax1.set_title ('Line Plots of Immigrants from China and India (1980 - 2013)')\n",
        "ax1.set_ylabel('Number of Immigrants')\n",
        "ax1.set_xlabel('Years')\n",
        "\n",
        "plt.show()"
      ],
      "execution_count": null,
      "outputs": []
    },
    {
      "cell_type": "markdown",
      "metadata": {
        "button": false,
        "new_sheet": false,
        "run_control": {
          "read_only": false
        },
        "id": "kCJaS8oUO-DB"
      },
      "source": [
        "*** Gợi ý liên quan đến quy ước subplot**\n",
        "\n",
        "Trong trường hợp khi `nrows`,` ncols` và `plot_number` đều nhỏ hơn 10, thì có thể thay thế bằng số có 3 chữ số, trong đó hàng trăm biểu diễn `nrows`, hàng chục biểu diễn `ncols ` và hàng đơn vị biểu diễn `plot_number`. Ví dụ,\n",
        "\n",
        "```python\n",
        "   subplot(211) == subplot(2, 1, 1)\n",
        "```\n",
        "\n",
        "tạo ra một trục con trong một hình đại diện cho biểu đồ trên cùng (tức là biểu đồ đầu tiên) trong một lưới giả định 2 hàng x 1 cột (thực tế không có lưới nào tồn tại, nhưng về mặt khái niệm thì đây là cách subplot trả về đã được sắp xếp).\n"
      ]
    },
    {
      "cell_type": "markdown",
      "metadata": {
        "button": false,
        "new_sheet": false,
        "run_control": {
          "read_only": false
        },
        "id": "mN9VYzvkO-DB"
      },
      "source": [
        "Hãy thử thứ nâng cao hơn một chút.\n",
        "\n",
        "Trước đây, chúng ta đã xác định top 15 quốc gia dựa trên tổng số người nhập cư từ năm 1980-2013.\n",
        "\n",
        "**Câu hỏi:** Tạo biểu đồ hộp để hình dung sự phân bố của top 15 quốc gia (dựa trên tổng số người nhập cư) được nhóm theo _thập kỷ_ `1980`,` 1990` và `2000`.\n"
      ]
    },
    {
      "cell_type": "markdown",
      "metadata": {
        "button": false,
        "new_sheet": false,
        "run_control": {
          "read_only": false
        },
        "id": "HlanM1w_O-DB"
      },
      "source": [
        "Bước 1: Lấy tập dữ liệu. Nhận top 15 quốc gia dựa trên Tổng số dân nhập cư. Đặt tên cho dataframe là **df_top15**.\n"
      ]
    },
    {
      "cell_type": "code",
      "metadata": {
        "button": false,
        "jupyter": {
          "outputs_hidden": false
        },
        "new_sheet": false,
        "run_control": {
          "read_only": false
        },
        "scrolled": true,
        "id": "ynCdSknWhzHU"
      },
      "source": [
        "### nhập đáp án của bạn tạo đây\n",
        "\n"
      ],
      "execution_count": null,
      "outputs": []
    },
    {
      "cell_type": "markdown",
      "metadata": {
        "button": false,
        "new_sheet": false,
        "run_control": {
          "read_only": false
        },
        "id": "9nibVRHThzHU"
      },
      "source": [
        "<details><summary>Click vào đây để xem lời giải mẫu trong python</summary>\n",
        "\n",
        "```python\n",
        "    #The correct answer is:\n",
        "    df_top15 = df_can.sort_values(['Total'], ascending=False, axis=0).head(15)\n",
        "    df_top15\n",
        "\n",
        "```\n",
        "\n",
        "</details>\n"
      ]
    },
    {
      "cell_type": "markdown",
      "metadata": {
        "button": false,
        "new_sheet": false,
        "run_control": {
          "read_only": false
        },
        "id": "95e-tnomO-DC"
      },
      "source": [
        "Bước 2: Tạo dataframe mới chứa tổng hợp cho từng thập kỷ. Một cách để thực hiện là:\n",
        "\n",
        "1. Tạo danh sách tất cả các năm trong các thập kỷ 80, 90 và 00.\n",
        "2. Cắt dataframe df_can ban đầu để tạo một chuỗi (series) cho mỗi thập kỷ và tổng hợp tất cả các năm cho mỗi quốc gia.\n",
        "3. Hợp nhất ba chuỗi thành một dataframe mới. Gọi dataframe là **new_df**.\n"
      ]
    },
    {
      "cell_type": "code",
      "metadata": {
        "button": false,
        "jupyter": {
          "outputs_hidden": false
        },
        "new_sheet": false,
        "run_control": {
          "read_only": false
        },
        "scrolled": true,
        "id": "6_W9FdDkhzHU"
      },
      "source": [
        "### nhập đáp án của bạn tạo đây\n",
        "\n",
        "\n",
        ""
      ],
      "execution_count": null,
      "outputs": []
    },
    {
      "cell_type": "markdown",
      "metadata": {
        "button": false,
        "new_sheet": false,
        "run_control": {
          "read_only": false
        },
        "id": "poUQxCS1hzHU"
      },
      "source": [
        "<details><summary>Click vào đây để xem lời giải mẫu trong python</summary>\n",
        "\n",
        "```python\n",
        "    #The correct answer is:\n",
        "    \n",
        "    # tạo danh sách tất cả các năm trong các thập kỷ 80, 90 và 00.\n",
        "    years_80s = list(map(str, range(1980, 1990)))\n",
        "    years_90s = list(map(str, range(1990, 2000)))\n",
        "    years_00s = list(map(str, range(2000, 2010)))\n",
        "\n",
        "    # Cắt dataframe df_can ban đầu để tạo một chuỗi cho mỗi thập kỷ\n",
        "    df_80s = df_top15.loc[:, years_80s].sum(axis=1)\n",
        "    df_90s = df_top15.loc[:, years_90s].sum(axis=1)\n",
        "    df_00s = df_top15.loc[:, years_00s].sum(axis=1)\n",
        "\n",
        "    # hợp nhất ba chuỗi thành một dataframe mới\n",
        "    new_df = pd.DataFrame({'1980s': df_80s, '1990s': df_90s, '2000s':df_00s})\n",
        "\n",
        "    # trình bày dataframe\n",
        "    new_df.head()\n",
        "\n",
        "\n",
        "```\n",
        "\n",
        "</details>\n"
      ]
    },
    {
      "cell_type": "markdown",
      "metadata": {
        "button": false,
        "new_sheet": false,
        "run_control": {
          "read_only": false
        },
        "id": "GmN2OVfyO-DC"
      },
      "source": [
        "Hãy tìm hiểu thêm về các thống kê được liên kết với dataframe bằng phương thức `description()`.\n"
      ]
    },
    {
      "cell_type": "code",
      "metadata": {
        "button": false,
        "jupyter": {
          "outputs_hidden": false
        },
        "new_sheet": false,
        "run_control": {
          "read_only": false
        },
        "scrolled": true,
        "id": "K-eon5oRhzHV"
      },
      "source": [
        "### nhập đáp án của bạn tạo đây\n"
      ],
      "execution_count": null,
      "outputs": []
    },
    {
      "cell_type": "markdown",
      "metadata": {
        "button": false,
        "new_sheet": false,
        "run_control": {
          "read_only": false
        },
        "id": "r1az2ZGZhzHV"
      },
      "source": [
        "<details><summary>Click vào đây để xem lời giải mẫu trong python</summary>\n",
        "\n",
        "```python\n",
        "    #The correct answer is:    \n",
        "    new_df.describe()\n",
        "```\n",
        "\n",
        "</details>\n"
      ]
    },
    {
      "cell_type": "markdown",
      "metadata": {
        "button": false,
        "new_sheet": false,
        "run_control": {
          "read_only": false
        },
        "id": "pGTjQp0pO-DC"
      },
      "source": [
        "Bước 3: Vẽ biểu đồ hộp\n"
      ]
    },
    {
      "cell_type": "code",
      "metadata": {
        "button": false,
        "jupyter": {
          "outputs_hidden": false
        },
        "new_sheet": false,
        "run_control": {
          "read_only": false
        },
        "id": "owq3akxAhzHV"
      },
      "source": [
        "### nhập đáp án của bạn tạo đây\n",
        "\n",
        "\n"
      ],
      "execution_count": null,
      "outputs": []
    },
    {
      "cell_type": "markdown",
      "metadata": {
        "button": false,
        "new_sheet": false,
        "run_control": {
          "read_only": false
        },
        "id": "l1ipsGZdhzHV"
      },
      "source": [
        "<details><summary>Click vào đây để xem lời giải mẫu trong python</summary>\n",
        "\n",
        "```python\n",
        "    #The correct answer is:    \n",
        "    new_df.plot(kind='box', figsize=(10, 6))\n",
        "\n",
        "    plt.title('Immigration from top 15 countries for decades 80s, 90s and 2000s')\n",
        "\n",
        "    plt.show()\n",
        "\n",
        "```\n",
        "\n",
        "</details>\n"
      ]
    },
    {
      "cell_type": "markdown",
      "metadata": {
        "button": false,
        "new_sheet": false,
        "run_control": {
          "read_only": false
        },
        "id": "r21mEZE-O-DD"
      },
      "source": [
        "Lưu ý rằng biểu đồ hộp khác với bảng tóm tắt đã tạo. Biểu đồ hộp quét dữ liệu và xác định các giá trị ngoại lệ (outlier). Để trở thành ngoại lệ, giá trị dữ liệu phải: <br>\n",
        "\n",
        "- lớn hơn Q3 ít nhất 1,5 lần IQR, hoặc,\n",
        "- nhỏ hơn Q1 ít nhất 1,5 lần IQR.\n",
        "\n",
        "Hãy lấy thập niên 2000 làm ví dụ: <br>\n",
        "\n",
        "- Q1 (25%) = 36.101,5 <br>\n",
        "- Quý 3 (75%) = 105.505,5 <br>\n",
        "- IQR = Q3 - Q1 = 69.404 <br>\n",
        "\n",
        "Sử dụng định nghĩa của giá trị ngoại lệ, bất kỳ giá trị nào lớn hơn Q3 1,5 lần IQR sẽ được gắn cờ là giá trị ngoại lệ.\n",
        "\n",
        "Outlier > 105.505,5 + (1,5 * 69,404) <br>\n",
        "Outlier > 209.611,5\n"
      ]
    },
    {
      "cell_type": "code",
      "metadata": {
        "button": false,
        "jupyter": {
          "outputs_hidden": false
        },
        "new_sheet": false,
        "run_control": {
          "read_only": false
        },
        "scrolled": true,
        "id": "GzlkWXVohzHW"
      },
      "source": [
        "# hãy kiểm tra xem có bao nhiêu mục nhập vượt quá ngưỡng ngoại lệ\n"
      ],
      "execution_count": null,
      "outputs": []
    },
    {
      "cell_type": "markdown",
      "metadata": {
        "id": "4N7UjAQIhzHW"
      },
      "source": [
        "<details><summary>Click vào đây để xem lời giải mẫu trong python</summary>\n",
        "\n",
        "```python\n",
        "    #The correct answer is:    \n",
        "    new_df=new_df.reset_index()\n",
        "    new_df[new_df['2000s']> 209611.5]\n",
        "\n",
        "```\n",
        "\n",
        "</details>\n"
      ]
    },
    {
      "cell_type": "markdown",
      "metadata": {
        "id": "CDigC1gHhzHW"
      },
      "source": [
        "<!-- The correct answer is:\n",
        "new_df[new_df['2000s']> 209611.5]\n",
        "-->\n"
      ]
    },
    {
      "cell_type": "markdown",
      "metadata": {
        "button": false,
        "new_sheet": false,
        "run_control": {
          "read_only": false
        },
        "id": "EUt_1fyZO-DD"
      },
      "source": [
        "Cả Trung Quốc và Ấn Độ đều được coi là ngoại lệ vì dân số của họ trong thập kỷ vượt quá 209.611,5.\n",
        "\n",
        "Biểu đồ hộp là một công cụ trực quan hóa nâng cao có nhiều tùy chọn và tùy chỉnh vượt qua phạm vi của lab này. Vui lòng tham khảo [tài liệu Matplotlib](http://matplotlib.org/api/pyplot_api.html#matplotlib.pyplot.boxplot?cm_mmc=Email_Newsletter-_-Developer_Ed%2BTech-_-WW_WW-_-SkillsNetwork-Courses-IBMDeveloperSkillsNetwork-DV0101EN-SkillsNetwork-20297740&cm_mmca1=000026UJ&cm_mmca2=10006555&cm_mmca3=M12345678&cvosrc=email.Newsletter.M12345678&cvo_campaign=000026UJ&cm_mmc=Email_Newsletter-_-Developer_Ed%2BTech-_-WW_WW-_-SkillsNetwork-Courses-IBMDeveloperSkillsNetwork-DV0101EN-SkillsNetwork-20297740&cm_mmca1=000026UJ&cm_mmca2=10006555&cm_mmca3=M12345678&cvosrc=email.Newsletter.M12345678&cvo_campaign=000026UJ) về biểu đồ hộp để biết thêm thông tin.\n"
      ]
    },
    {
      "cell_type": "markdown",
      "metadata": {
        "button": false,
        "new_sheet": false,
        "run_control": {
          "read_only": false
        },
        "id": "FkeveSawO-DD"
      },
      "source": [
        "# Biểu đồ phân tán <a id=\"10\"></a>\n",
        "\n",
        "`Biểu đồ phân tán` (2D) là một phương pháp hữu ích để so sánh các biến với nhau. Biểu đồ `phân tán` trông giống như `biểu đồ đường` ở chỗ chúng đều ánh xạ các biến độc lập và phụ thuộc trên biểu đồ 2D. Trong khi ở biểu đồ đường, các điểm dữ liệu được kết nối với nhau bằng một đường thì ở biểu đồ phân tán, chúng không được kết nối. Dữ liệu trong biểu đồ phân tán được coi là biểu diễn một xu hướng. Nhờ phân tích sâu hơn với các công cụ như hồi quy, chúng ta có thể tính toán mối liên hệ này và sử dụng nó để dự đoán các xu hướng ngoài tập dữ liệu.\n",
        "\n",
        "Hãy bắt đầu bằng việc khám phá những điều sau:\n",
        "\n",
        "Sử dụng `biểu đồ phân tán`, hãy hình dung xu hướng tổng số người nhập cư đến Canada (tất cả các quốc gia cộng lại) trong những năm 1980-2013.\n"
      ]
    },
    {
      "cell_type": "markdown",
      "metadata": {
        "button": false,
        "new_sheet": false,
        "run_control": {
          "read_only": false
        },
        "id": "Vtx9jpnnO-DE"
      },
      "source": [
        "Bước 1: Lấy tập dữ liệu. Vì chúng ta đang kỳ vọng sử dụng mối liên hệ giữa `years` và `total population`, hãy chuyển `years` thành kiểu `int`.\n"
      ]
    },
    {
      "cell_type": "code",
      "metadata": {
        "button": false,
        "jupyter": {
          "outputs_hidden": false
        },
        "new_sheet": false,
        "run_control": {
          "read_only": false
        },
        "id": "L5ptflAbhzHX"
      },
      "source": [
        "# sử dụng phương thức sum() để lấy tổng dân số mỗi năm\n",
        "df_tot = pd.DataFrame(df_can[years].sum(axis=0))\n",
        "\n",
        "# đổi years thành kiểu int (hữu ích cho hổi quy sau này)\n",
        "df_tot.index = map(int, df_tot.index)\n",
        "\n",
        "# đặt lại chỉ mục để đưa trở lại dưới dạng một cột trong dataframe df_tot\n",
        "df_tot.reset_index(inplace = True)\n",
        "\n",
        "# đặt lại tên các cột\n",
        "df_tot.columns = ['year', 'total']\n",
        "\n",
        "#xem 5 dòng đầu tiên của dataframe\n",
        "df_tot.head()"
      ],
      "execution_count": null,
      "outputs": []
    },
    {
      "cell_type": "markdown",
      "metadata": {
        "button": false,
        "new_sheet": false,
        "run_control": {
          "read_only": false
        },
        "id": "EDzm83tEO-DE"
      },
      "source": [
        "Bước 2: Vẽ biểu đồ dữ liệu. Trong `Matplotlib`, chúng ta có thể tạo một tập hợp biểu đồ `phân tán` bằng cách truyền vào `kind='scatter'` làm đối số biểu đồ. Chúng ta cũng sẽ cần truyền các từ khóa `x` và `y` để chỉ định các cột trên trục x và y.\n"
      ]
    },
    {
      "cell_type": "code",
      "metadata": {
        "button": false,
        "jupyter": {
          "outputs_hidden": false
        },
        "new_sheet": false,
        "run_control": {
          "read_only": false
        },
        "id": "lSKgpzSUhzHX"
      },
      "source": [
        "df_tot.plot(kind='scatter', x='year', y='total', figsize=(10, 6), color='darkblue')\n",
        "\n",
        "plt.title('Total Immigration to Canada from 1980 - 2013')\n",
        "plt.xlabel('Year')\n",
        "plt.ylabel('Number of Immigrants')\n",
        "\n",
        "plt.show()"
      ],
      "execution_count": null,
      "outputs": []
    },
    {
      "cell_type": "markdown",
      "metadata": {
        "button": false,
        "new_sheet": false,
        "run_control": {
          "read_only": false
        },
        "id": "XgRzRz7sO-DE"
      },
      "source": [
        "Hãy lưu ý cách biểu đồ phân tán không kết nối các điểm dữ liệu với nhau. Chúng ta có thể quan sát rõ ràng xu hướng tăng lên trong dữ liệu: tổng số người nhập cư tăng lên theo năm. Chúng ta có thể phân tích theo toán học xu hướng tăng này bằng đường hồi quy (đường phù hợp nhất)."
      ]
    },
    {
      "cell_type": "markdown",
      "metadata": {
        "button": false,
        "new_sheet": false,
        "run_control": {
          "read_only": false
        },
        "id": "Rxh5EVYfO-DE"
      },
      "source": [
        "Vậy, hãy cố gắng vẽ một đường tuyến tính phù hợp nhất và sử dụng nó để dự đoán số lượng người nhập cư vào năm 2015.\n",
        "\n",
        "Bước 1: Nhận phương trình của đường phù hợp nhất. Chúng ta sẽ sử dụng phương thức `polyfit()` của **Numpy** bằng cách truyền vào như sau:\n",
        "\n",
        "- `x`: tọa độ x của dữ liệu.\n",
        "- `y`: tọa độ y của dữ liệu.\n",
        "- `deg`: Mức độ phù hợp của đa thức. 1 = tuyến tính, 2 = bậc hai,...\n"
      ]
    },
    {
      "cell_type": "code",
      "metadata": {
        "button": false,
        "jupyter": {
          "outputs_hidden": false
        },
        "new_sheet": false,
        "run_control": {
          "read_only": false
        },
        "id": "RJgII27ShzHX"
      },
      "source": [
        "x = df_tot['year']      # year trên trục x\n",
        "y = df_tot['total']     # total trên trục y\n",
        "fit = np.polyfit(x, y, deg=1)\n",
        "\n",
        "fit"
      ],
      "execution_count": null,
      "outputs": []
    },
    {
      "cell_type": "markdown",
      "metadata": {
        "button": false,
        "new_sheet": false,
        "run_control": {
          "read_only": false
        },
        "id": "qLzdVH8zO-DF"
      },
      "source": [
        "Kết quả được một mảng có hệ số đa thức, lũy thừa cao nhất. Vì chúng ta đang vẽ biểu đồ hồi quy tuyến tính `y = a*x + b`, đầu ra có 2 phần tử `[5.56709228e + 03, -1.09261952e + 07]` với độ dốc ở 0 và giao nhau ở 1.\n",
        "\n",
        "Bước 2: Vẽ đường hồi quy trên `biểu đồ phân tán`.\n"
      ]
    },
    {
      "cell_type": "code",
      "metadata": {
        "button": false,
        "jupyter": {
          "outputs_hidden": false
        },
        "new_sheet": false,
        "run_control": {
          "read_only": false
        },
        "id": "7k5nxguYhzHY"
      },
      "source": [
        "df_tot.plot(kind='scatter', x='year', y='total', figsize=(10, 6), color='darkblue')\n",
        "\n",
        "plt.title('Total Immigration to Canada from 1980 - 2013')\n",
        "plt.xlabel('Year')\n",
        "plt.ylabel('Number of Immigrants')\n",
        "\n",
        "# đường biểu đồ phù hợp nhất\n",
        "plt.plot(x, fit[0] * x + fit[1], color='red') # nhắc lại x là Years\n",
        "plt.annotate('y={0:.0f} x + {1:.0f}'.format(fit[0], fit[1]), xy=(2000, 150000))\n",
        "\n",
        "plt.show()\n",
        "\n",
        "# in ra đường phù hợp nhất\n",
        "'No. Immigrants = {0:.0f} * Year + {1:.0f}'.format(fit[0], fit[1])"
      ],
      "execution_count": null,
      "outputs": []
    },
    {
      "cell_type": "markdown",
      "metadata": {
        "button": false,
        "new_sheet": false,
        "run_control": {
          "read_only": false
        },
        "id": "IJqbK5mohzHY"
      },
      "source": [
        "Nhờ phương trình của đường phù hợp nhất, chúng ta có thể ước tính số lượng người nhập cư vào năm 2015:\n",
        "\n",
        "```python\n",
        "No. Immigrants = 5567 * Year - 10926195\n",
        "No. Immigrants = 5567 * 2015 - 10926195\n",
        "No. Immigrants = 291,310\n",
        "```\n",
        "\n",
        "Khi so sánh với các số liệu thực tế từ Bộ Quốc tịch và Nhập cư Canada (CIC) [Báo cáo thường niên năm 2016](http://www.cic.gc.ca/english/resources/publications/annual-report-2016/index.asp?utm_medium=Exinfluencer\\&utm_source=Exinfluencer\\&utm_content=000026UJ\\&utm_term=10006555\\&utm_id=NA-SkillsNetwork-Channel-SkillsNetworkCoursesIBMDeveloperSkillsNetworkDV0101ENSkillsNetwork20297740-2021-01-01), chúng ta thấy rằng Canada đã nhận 271.845 người nhập cư vào năm 2015. Giá trị ước tính của chúng ta là 291.310 người nằm trong khoảng 7% so với con số thực tế, khá tốt khi xem xét dữ liệu ban đầu từ Liên hợp quốc (và có thể khác một chút so với dữ liệu CIC).\n",
        "\n",
        "Lưu ý thêm, chúng ta có thể quan sát thấy lượng nhập cư đã giảm trong những năm 1993 - 1997. Phân tích sâu hơn về chủ đề này cho thấy rằng vào năm 1993, Canada đã giới thiệu kỹ về Dự luật C-86, đã đưa ra các sửa đổi đối với hệ thống xác định người tị nạn, phần lớn là hạn chế. Những sửa đổi bổ sung đối với Quy định Nhập cư đã hủy bỏ quyền bảo trợ cần thiết cho \"những người thân được trợ giúp\" và giảm số điểm được trao cho họ, khiến các thành viên gia đình (ngoài gia đình cơ bản) khó nhập cư hơn vào Canada. Các biện pháp hạn chế này đã có tác động trực tiếp đến số lượng nhập cư trong vài năm tới."
      ]
    },
    {
      "cell_type": "markdown",
      "metadata": {
        "button": false,
        "new_sheet": false,
        "run_control": {
          "read_only": false
        },
        "id": "zBd-Jz9QO-DF"
      },
      "source": [
        "**Câu hỏi**: Tạo biểu đồ phân tán về tổng số người nhập cư từ Đan Mạch, Na Uy và Thụy Điển đến Canada từ năm 1980 đến năm 2013.\n"
      ]
    },
    {
      "cell_type": "markdown",
      "metadata": {
        "button": false,
        "new_sheet": false,
        "run_control": {
          "read_only": false
        },
        "id": "hNJLox5VO-DF"
      },
      "source": [
        "Bước 1: Thu thập dữ liệu:\n",
        "\n",
        "1. Tạo dataframe chỉ gồm các số liệu liên quan đến Đan Mạch, Na Uy và Thụy Điển. Đặt tên cho dataframe này là **df_countries**.\n",
        "2. Tính tổng số người nhập cư trên cả 3 quốc gia mỗi năm và chuyển kết quả thành dataframe. Đặt tên cho dataframe mới này là **df_total**.\n",
        "3. Đặt lại chỉ mục tại chỗ.\n",
        "4. Đổi tên các cột thành **year** và **total**.\n",
        "5. Hiển thị kết quả dataframe.\n"
      ]
    },
    {
      "cell_type": "code",
      "metadata": {
        "button": false,
        "jupyter": {
          "outputs_hidden": false
        },
        "new_sheet": false,
        "run_control": {
          "read_only": false
        },
        "scrolled": true,
        "id": "fgT4tMXahzHY"
      },
      "source": [
        "### nhập đáp án của bạn tạo đây\n",
        "\n",
        "\n",
        "\n"
      ],
      "execution_count": null,
      "outputs": []
    },
    {
      "cell_type": "markdown",
      "metadata": {
        "button": false,
        "new_sheet": false,
        "run_control": {
          "read_only": false
        },
        "id": "CLI-GqeehzHY"
      },
      "source": [
        "<details><summary>Click vào đây để xem lời giải mẫu trong python</summary>\n",
        "\n",
        "```python\n",
        "    #The correct answer is:  \n",
        "    \n",
        "    # tạo dataframe df_countries\n",
        "    df_countries = df_can.loc[['Denmark', 'Norway', 'Sweden'], years].transpose()\n",
        "\n",
        "    # tạo dataframe df_total bằng cách tính tổng của 3 quốc gia cho mỗi năm\n",
        "    df_total = pd.DataFrame(df_countries.sum(axis=1))\n",
        "\n",
        "    # đặt lại chỉ mục\n",
        "    df_total.reset_index(inplace=True)\n",
        "\n",
        "    # đổi tên các cột\n",
        "    df_total.columns = ['year', 'total']\n",
        "\n",
        "    # đổi cột year từ kiểu string thành int để tạo biểu đồ phân tán\n",
        "    df_total['year'] = df_total['year'].astype(int)\n",
        "\n",
        "    # hiển thị kết quả dataframe\n",
        "    df_total.head()\n",
        "\n",
        "\n",
        "```\n",
        "\n",
        "</details>\n"
      ]
    },
    {
      "cell_type": "markdown",
      "metadata": {
        "button": false,
        "new_sheet": false,
        "run_control": {
          "read_only": false
        },
        "id": "VIsG3oCzO-DF"
      },
      "source": [
        "Bước 2: Tạo biểu đồ phân tán bằng cách vẽ biểu đồ tổng so với năm trong **df_total**.\n"
      ]
    },
    {
      "cell_type": "code",
      "metadata": {
        "button": false,
        "jupyter": {
          "outputs_hidden": false
        },
        "new_sheet": false,
        "run_control": {
          "read_only": false
        },
        "id": "QKoS7heihzHZ"
      },
      "source": [
        "### nhập đáp án của bạn tạo đây\n",
        "\n",
        "\n",
        "\n"
      ],
      "execution_count": null,
      "outputs": []
    },
    {
      "cell_type": "markdown",
      "metadata": {
        "button": false,
        "new_sheet": false,
        "run_control": {
          "read_only": false
        },
        "id": "m0MaqrBjhzHZ"
      },
      "source": [
        "<details><summary>Click vào đây để xem lời giải mẫu trong python</summary>\n",
        "\n",
        "```python\n",
        "    #The correct answer is:  \n",
        "    \n",
        "    # tạo biểu đồ phân tán\n",
        "    df_total.plot(kind='scatter', x='year', y='total', figsize=(10, 6), color='darkblue')\n",
        "\n",
        "    # thêm tiêu đề và nhãn vào các trục\n",
        "    plt.title('Immigration from Denmark, Norway, and Sweden to Canada from 1980 - 2013')\n",
        "    plt.xlabel('Year')\n",
        "    plt.ylabel('Number of Immigrants')\n",
        "\n",
        "    # hiển thị biểu đồ\n",
        "    plt.show()\n",
        "\n",
        "\n",
        "```\n",
        "\n",
        "</details>\n"
      ]
    },
    {
      "cell_type": "markdown",
      "metadata": {
        "button": false,
        "new_sheet": false,
        "run_control": {
          "read_only": false
        },
        "id": "7tLfW2c5hzHZ"
      },
      "source": [
        "# Biểu đồ bong bóng <a id=\"12\"></a>\n",
        "\n",
        "`Biểu đồ bong bóng` là một biến thể của` biểu đồ phân tán`, hiển thị 3 chiều của dữ liệu (x, y, z). Các điểm dữ liệu được thay thế bằng bong bóng và kích thước của bong bóng được xác định bởi biến thứ ba `z`, hay còn được gọi là trọng số. Trong `maplotlib`, chúng ta có thể chuyển  từ khóa `s` thành `plot()`, chứa trọng số của mỗi điểm trong một mảng hoặc vô hướng.\n",
        "\n",
        "**Hãy bắt đầu bằng cách phân tích ảnh hưởng của đại suy thoái ở Argentina**.\n",
        "\n",
        "Argentina đã trải qua một cuộc khủng hoảng nghiêm trọng từ năm 1998 - 2002, gây ra tình trạng thất nghiệp, bạo loạn, sự sụp đổ của chính phủ và vỡ nợ nước ngoài. Về thu nhập, hơn 50% người dân Argentina là người nghèo, và cứ 10 trẻ em thì có 7 trẻ em nghèo trong cuộc khủng hoảng năm 2002.\n",
        "\n",
        "Hãy phân tích tác động của cuộc khủng hoảng này và so sánh việc nhập cư của Argentina với người láng giềng Brazil. Hãy thực hiện bằng cách sử dụng `biểu đồ bong bóng` về lượng người nhập cư từ Brazil và Argentina trong những năm 1980 - 2013. Chúng ta sẽ đặt trọng số cho bong bóng là giá trị _chuẩn hóa_ của dân số mỗi năm."
      ]
    },
    {
      "cell_type": "markdown",
      "metadata": {
        "button": false,
        "new_sheet": false,
        "run_control": {
          "read_only": false
        },
        "id": "I90yhTQzO-DG"
      },
      "source": [
        "Bước 1: Lấy dữ liệu cho Brazil và Argentina. Giống như ví dụ trước, chúng ta sẽ chuyển đổi `Years` thành kiểu int và đưa nó vào dataframe.\n"
      ]
    },
    {
      "cell_type": "code",
      "metadata": {
        "button": false,
        "jupyter": {
          "outputs_hidden": false
        },
        "new_sheet": false,
        "run_control": {
          "read_only": false
        },
        "scrolled": true,
        "id": "OabQcQv9hzHZ"
      },
      "source": [
        "df_can_t = df_can[years].transpose() # chuyển vị dataframe\n",
        "\n",
        "# ép kiểu Years (chỉ mục) thành kiểu int\n",
        "df_can_t.index = map(int, df_can_t.index)\n",
        "\n",
        "# hãy gắn nhãn chỉ mục. Nó sẽ tự động là tên cột khi đặt lại chỉ mục\n",
        "df_can_t.index.name = 'Year'\n",
        "\n",
        "# đặt lại chỉ mục để Year là cột\n",
        "df_can_t.reset_index(inplace=True)\n",
        "\n",
        "# quan sát các thay đổi\n",
        "df_can_t.head()"
      ],
      "execution_count": null,
      "outputs": []
    },
    {
      "cell_type": "markdown",
      "metadata": {
        "button": false,
        "new_sheet": false,
        "run_control": {
          "read_only": false
        },
        "id": "bvzHr5Y9O-DG"
      },
      "source": [
        "Bước 2: Tạo trọng số chuẩn hóa.\n",
        "\n",
        "Trong thống kê có một số phương pháp chuẩn hóa, mỗi phương pháp có cách sử dụng riêng. Trong trường hợp này, chúng ta sẽ sử dụng [tính năng mở rộng quy mô](https://en.wikipedia.org/wiki/Feature_scaling?cm_mmc=Email_Newsletter-_-Developer_Ed%2BTech-_-WW_WW-_-SkillsNetwork-Courses-IBMDeveloperSkillsNetwork-DV0101EN-SkillsNetwork-20297740&cm_mmca1=000026UJ&cm_mmca2=10006555&cm_mmca3=M12345678&cvosrc=email.Newsletter.M12345678&cvo_campaign=000026UJ&cm_mmc=Email_Newsletter-_-Developer_Ed%2BTech-_-WW_WW-_-SkillsNetwork-Courses-IBMDeveloperSkillsNetwork-DV0101EN-SkillsNetwork-20297740&cm_mmca1=000026UJ&cm_mmca2=10006555&cm_mmca3=M12345678&cvosrc=email.Newsletter.M12345678&cvo_campaign=000026UJ) để đưa tất cả các giá trị vào phạm vi [0,1]. Công thức chung là:\n",
        "\n",
        "<img src=\"https://s3-api.us-geo.objectstorage.softlayer.net/cf-courses-data/CognitiveClass/DV0101EN/labs/Images/Mod3Fig3FeatureScaling.png\" align=\"center\">\n",
        "\n",
        "trong đó: _`X`_ là giá trị ban đầu, _`X'`_ là giá trị chuẩn hóa. Công thức đặt giá trị tối đa trong tập dữ liệu là 1 và giá trị nhỏ nhất là 0. Phần còn lại của tập dữ liệu được chia tỷ lệ thành giá trị từ 0-1 cho phù hợp.\n"
      ]
    },
    {
      "cell_type": "code",
      "metadata": {
        "button": false,
        "jupyter": {
          "outputs_hidden": false
        },
        "new_sheet": false,
        "run_control": {
          "read_only": false
        },
        "scrolled": true,
        "id": "r3xm7XgxhzHa"
      },
      "source": [
        "# chuẩn hóa dữ liệu Brazil\n",
        "norm_brazil = (df_can_t['Brazil'] - df_can_t['Brazil'].min()) / (df_can_t['Brazil'].max() - df_can_t['Brazil'].min())\n",
        "\n",
        "# chuẩn hóa dữ liệu Argentina\n",
        "norm_argentina = (df_can_t['Argentina'] - df_can_t['Argentina'].min()) / (df_can_t['Argentina'].max() - df_can_t['Argentina'].min())"
      ],
      "execution_count": null,
      "outputs": []
    },
    {
      "cell_type": "markdown",
      "metadata": {
        "button": false,
        "new_sheet": false,
        "run_control": {
          "read_only": false
        },
        "id": "qKCI2GTiO-DH"
      },
      "source": [
        "Bước 3: Vẽ biểu đồ dữ liệu.\n",
        "\n",
        "- Để vẽ hai biểu đồ phân tán khác nhau trong một biểu đồ, chúng ta có thể gộp các trục của biểu đồ này vào biểu đồ kia bằng cách chuyển nó qua tham số `ax`.\n",
        "- Chúng ta cũng sẽ truyền trọng số bằng tham số `s`. Biết rằng các trọng số chuẩn hóa nằm trong khoảng từ 0-1, chúng sẽ không hiển thị trên biểu đồ. Do đó chúng ta sẽ:\n",
        "     - nhân trọng số với 2000 để tăng tỷ lệ trên biểu đồ và,\n",
        "     - thêm 10 để bù cho giá trị min (có trọng số 0 và do đó chia tỷ lệ với x2000)."
      ]
    },
    {
      "cell_type": "code",
      "metadata": {
        "button": false,
        "jupyter": {
          "outputs_hidden": false
        },
        "new_sheet": false,
        "run_control": {
          "read_only": false
        },
        "id": "tuHh_lD6hzHa"
      },
      "source": [
        "# Brazil\n",
        "ax0 = df_can_t.plot(kind='scatter',\n",
        "                    x='Year',\n",
        "                    y='Brazil',\n",
        "                    figsize=(14, 8),\n",
        "                    alpha=0.5,                  # transparency\n",
        "                    color='green',\n",
        "                    s=norm_brazil * 2000 + 10,  # truyền các trọng số\n",
        "                    xlim=(1975, 2015)\n",
        "                   )\n",
        "\n",
        "# Argentina\n",
        "ax1 = df_can_t.plot(kind='scatter',\n",
        "                    x='Year',\n",
        "                    y='Argentina',\n",
        "                    alpha=0.5,\n",
        "                    color=\"blue\",\n",
        "                    s=norm_argentina * 2000 + 10,\n",
        "                    ax = ax0\n",
        "                   )\n",
        "\n",
        "ax0.set_ylabel('Number of Immigrants')\n",
        "ax0.set_title('Immigration from Brazil and Argentina from 1980 - 2013')\n",
        "ax0.legend(['Brazil', 'Argentina'], loc='upper left', fontsize='x-large')"
      ],
      "execution_count": null,
      "outputs": []
    },
    {
      "cell_type": "markdown",
      "metadata": {
        "button": false,
        "new_sheet": false,
        "run_control": {
          "read_only": false
        },
        "id": "A64-2zeuO-DH"
      },
      "source": [
        "Kích thước của bong bóng tương ứng với mức độ dân số nhập cư trong năm đó, so với dữ liệu 1980-2013. Bong bóng càng lớn thì số lượng người nhập cư trong năm đó càng nhiều.\n",
        "\n",
        "Từ biểu đồ trên, chúng ta có thể thấy lượng nhập cư từ Argentina gia tăng tương ứng trong cuộc đại suy thoái 1998 - 2002. Chúng ta cũng có thể quan sát thấy một đợt tăng đột biến tương tự vào khoảng năm 1985 đến 1993. Trên thực tế, Argentina đã phải trải qua một cuộc đại suy thoái từ 1974-1990, ngay trước khi bắt đầu cuộc đại suy thoái 1998-2002.\n",
        "\n",
        "Cũng vậy, Brazil đã phải hứng chịu _Hiệu ứng Samba_ khi đồng real Brazil (tiền tệ) giảm gần 35% vào năm 1999. Người ta lo ngại về một cuộc khủng hoảng tài chính Nam Mỹ vì nhiều nước Nam Mỹ phụ thuộc khá nhiều vào xuất khẩu công nghiệp từ Brazil. Sau đó chính phủ Brazil đã thông qua một chương trình thắt lưng buộc bụng và nền kinh tế dần phục hồi trong những năm qua, đỉnh điểm là sự tăng vọt vào năm 2010. Dữ liệu nhập cư phản ánh những sự kiện này.\n"
      ]
    },
    {
      "cell_type": "markdown",
      "metadata": {
        "button": false,
        "new_sheet": false,
        "run_control": {
          "read_only": false
        },
        "id": "xt7vAjoHO-DH"
      },
      "source": [
        "**Câu hỏi**: Vừa rồi trong lab này, chúng ta đã tạo các biểu đồ hộp để so sánh lượng nhập cư từ Trung Quốc và Ấn Độ đến Canada. Tạo biểu đồ bong bóng về nhập cư từ Trung Quốc và Ấn Độ để hình dung các khác biệt theo thời gian từ năm 1980 đến năm 2013. Bạn có thể sử dụng **df_can_t** đã xác định và sử dụng trong ví dụ trước.\n"
      ]
    },
    {
      "cell_type": "markdown",
      "metadata": {
        "button": false,
        "new_sheet": false,
        "run_control": {
          "read_only": false
        },
        "id": "nnhqgwElO-DH"
      },
      "source": [
        "Bước 1: Chuẩn hóa dữ liệu liên quan đến Trung Quốc và Ấn Độ.\n"
      ]
    },
    {
      "cell_type": "code",
      "metadata": {
        "button": false,
        "new_sheet": false,
        "run_control": {
          "read_only": false
        },
        "id": "h7qsUuDBhzHb"
      },
      "source": [
        "### nhập đáp án của bạn tại đây\n",
        "\n",
        "\n",
        "\n"
      ],
      "execution_count": null,
      "outputs": []
    },
    {
      "cell_type": "markdown",
      "metadata": {
        "button": false,
        "new_sheet": false,
        "run_control": {
          "read_only": false
        },
        "id": "9nhd2psIhzHb"
      },
      "source": [
        "<details><summary>Click vào đây để xem lời giải mẫu trong python</summary>\n",
        "\n",
        "```python\n",
        "    #The correct answer is:  \n",
        "    \n",
        "    # chuẩn hóa dữ liệu China\n",
        "    norm_china = (df_can_t['China'] - df_can_t['China'].min()) / (df_can_t['China'].max() - df_can_t['China'].min())\n",
        "    # chuẩn hóa dữ liệu India\n",
        "    norm_india = (df_can_t['India'] - df_can_t['India'].min()) / (df_can_t['India'].max() - df_can_t['India'].min())\n",
        "\n",
        "\n",
        "```\n",
        "\n",
        "</details>\n"
      ]
    },
    {
      "cell_type": "markdown",
      "metadata": {
        "button": false,
        "new_sheet": false,
        "run_control": {
          "read_only": false
        },
        "id": "p98YQd1-O-DH"
      },
      "source": [
        "Bước 2: Tạo biểu đồ bong bóng.\n"
      ]
    },
    {
      "cell_type": "code",
      "metadata": {
        "button": false,
        "jupyter": {
          "outputs_hidden": false
        },
        "new_sheet": false,
        "run_control": {
          "read_only": false
        },
        "id": "yzutTE-QhzHb"
      },
      "source": [
        "### nhập đáp án của bạn tại đây\n",
        "\n",
        "\n",
        "\n"
      ],
      "execution_count": null,
      "outputs": []
    },
    {
      "cell_type": "markdown",
      "metadata": {
        "button": false,
        "new_sheet": false,
        "run_control": {
          "read_only": false
        },
        "id": "MJu1lPiahzHb"
      },
      "source": [
        "<details><summary>Click vào đây để xem lời giải mẫu trong python</summary>\n",
        "\n",
        "```python\n",
        "    #The correct answer is:  \n",
        "    \n",
        "    # China\n",
        "    ax0 = df_can_t.plot(kind='scatter',\n",
        "                        x='Year',\n",
        "                        y='China',\n",
        "                        figsize=(14, 8),\n",
        "                        alpha=0.5,                  # transparency\n",
        "                        color='green',\n",
        "                        s=norm_china * 2000 + 10,  # truyền các trọng số\n",
        "                        xlim=(1975, 2015)\n",
        "                       )\n",
        "\n",
        "    # India\n",
        "    ax1 = df_can_t.plot(kind='scatter',\n",
        "                        x='Year',\n",
        "                        y='India',\n",
        "                        alpha=0.5,\n",
        "                        color=\"blue\",\n",
        "                        s=norm_india * 2000 + 10,\n",
        "                        ax = ax0\n",
        "                       )\n",
        "\n",
        "    ax0.set_ylabel('Number of Immigrants')\n",
        "    ax0.set_title('Immigration from China and India from 1980 - 2013')\n",
        "    ax0.legend(['China', 'India'], loc='upper left', fontsize='x-large')\n",
        "\n",
        "\n",
        "```\n",
        "\n",
        "</details>\n"
      ]
    }
  ]
}