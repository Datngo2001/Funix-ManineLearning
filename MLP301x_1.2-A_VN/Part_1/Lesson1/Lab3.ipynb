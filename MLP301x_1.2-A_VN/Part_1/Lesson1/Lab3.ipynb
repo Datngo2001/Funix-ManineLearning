{
 "cells": [
  {
   "cell_type": "markdown",
   "metadata": {},
   "source": [
    "# Excercise 7"
   ]
  },
  {
   "cell_type": "markdown",
   "metadata": {},
   "source": [
    "| header | header |\n",
    "| ------ | ------ |\n",
    "| cell | cell |"
   ]
  },
  {
   "cell_type": "markdown",
   "metadata": {},
   "source": [
    "# Excercise 8"
   ]
  },
  {
   "cell_type": "markdown",
   "metadata": {},
   "source": [
    "| Id | First Name | Last Name | Password |\n",
    "| ------ | ------ |------ |------ |\n",
    "| 1 | Dat | Ngo | 123 |\n",
    "| 1 | Dat | Ngo | 123 |\n",
    "| 1 | Dat | Ngo | 123 |\n",
    "| 1 | Dat | Ngo | 123 |"
   ]
  }
 ],
 "metadata": {
  "language_info": {
   "name": "python"
  }
 },
 "nbformat": 4,
 "nbformat_minor": 2
}
