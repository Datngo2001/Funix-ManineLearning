{
  "cells": [
    {
      "cell_type": "markdown",
      "metadata": {
        "id": "b_Y8AI4SvED_"
      },
      "source": [
        "# Viết code Python đầu tiên của bạn\n",
        "\n",
        "Thời lượng ước tính: **25** phút\n",
        "\n",
        "## Mục tiêu\n",
        "\n",
        "Sau khi làm lab này, học viên sẽ có thể:\n",
        "\n",
        "- Viết code cơ bản trong Python\n",
        "- Làm việc với nhiều kiểu dữ liệu khác nhau trong Python\n",
        "- Chuyển đổi dữ liệu từ kiểu này sang kiểu khác\n",
        "- Sử dụng các biểu thức và biến để thực hiện các phép toán\n"
      ]
    },
    {
      "cell_type": "markdown",
      "metadata": {
        "id": "Z2np_xcivEED"
      },
      "source": [
        "<h2>Mục lục</h2>\n",
        "<div class=\"alert alert-block alert-info\" style=\"margin-top: 20px\">\n",
        "    <ul>\n",
        "        <li>\n",
        "            <a href=\"#hello\">Nói \"Hello\" trong Python</a>\n",
        "            <ul>\n",
        "                <li><a href=\"version\">Chúng ta đang dùng Python phiên bản nào?</a></li>\n",
        "                <li><a href=\"comments\">Viết chú thích trong Python</a></li>\n",
        "                <li><a href=\"errors\">Lỗi trong Python</a></li>\n",
        "                <li><a href=\"python_error\">Python có biết lỗi của bạn trước khi chạy code không?</a></li>\n",
        "                <li><a href=\"exercise\">Exercise: Chương trình đầu tiên</a></li>\n",
        "            </ul>\n",
        "        </li>\n",
        "        <li>\n",
        "            <a href=\"#types_objects\">Các kiểu đối tượng trong Python</a>\n",
        "            <ul>\n",
        "                <li><a href=\"int\">Số nguyên</a></li>\n",
        "                <li><a href=\"float\">Số thực</a></li>\n",
        "                <li><a href=\"convert\">Chuyển đổi một kiểu đối tượng này sang một kiểu đối tượng khác</a></li>\n",
        "                <li><a href=\"bool\">Kiểu dữ liệu Boolean</a></li>\n",
        "                <li><a href=\"exer_type\">Exercise: Các kiểu dữ liệu</a></li>\n",
        "            </ul>\n",
        "        </li>\n",
        "        <li>\n",
        "            <a href=\"#expressions\">Biểu thức và biến</a>\n",
        "            <ul>\n",
        "                <li><a href=\"exp\">Biểu thức</a></li>\n",
        "                <li><a href=\"exer_exp\">Exercise: Biểu thức</a></li>\n",
        "                <li><a href=\"var\">Biến</a></li>\n",
        "                <li><a href=\"exer_exp_var\">Exercise: Biểu thức và biến trong Python</a></li>\n",
        "            </ul>\n",
        "        </li>\n",
        "    </ul>\n",
        "    <p>\n",
        "        Thời lượng ước tính: <strong>25 phút</strong>\n",
        "    </p>\n",
        "</div>\n",
        "\n",
        "<hr>\n"
      ]
    },
    {
      "cell_type": "markdown",
      "metadata": {
        "id": "e-0ih1zgvEED"
      },
      "source": [
        "### <h2 id=\"hello\">Nói \"Hello\" với thế giới trong Python</h2>\n"
      ]
    },
    {
      "cell_type": "markdown",
      "metadata": {
        "id": "0ji3PRjVvEEE"
      },
      "source": [
        "Khi học một ngôn ngữ lập trình mới, theo thông lệ, bạn nên bắt đầu với ví dụ \"hello world\". Nói một cách đơn giản, một dòng code lập trình này sẽ đảm bảo rằng chúng ta biết cách in một chuỗi ở đầu ra và cách thực hiện code trong các cell trong notebook.\n"
      ]
    },
    {
      "cell_type": "markdown",
      "metadata": {
        "id": "xBSqCJThvEEE"
      },
      "source": [
        "<hr/>\n",
        "<div class=\"alert alert-success alertsuccess\" style=\"margin-top: 20px\">\n",
        "[Tip]: Để thực thi code Python trong cell code bên dưới, hãy nhấp vào cell để chọn và nhấn <kbd>Shift</kbd> + <kbd>Enter</kbd>.\n",
        "</div>\n",
        "<hr/>\n"
      ]
    },
    {
      "cell_type": "code",
      "execution_count": 1,
      "metadata": {
        "colab": {
          "base_uri": "https://localhost:8080/"
        },
        "id": "77wSJvyovEEF",
        "outputId": "bca0acd0-1db4-4018-b228-9f4d350ea91e"
      },
      "outputs": [
        {
          "name": "stdout",
          "output_type": "stream",
          "text": [
            "Hello, Python!\n"
          ]
        }
      ],
      "source": [
        "# Thử output Python đầu tiên\n",
        "\n",
        "print('Hello, Python!')"
      ]
    },
    {
      "cell_type": "markdown",
      "metadata": {
        "id": "31QwDcp7vEEH"
      },
      "source": [
        "Sau khi thực thi cell ở trên, bạn sẽ thấy Python in ra <code>Hello, Python!</code>. Chúc mừng bạn đã chạy code Python đầu tiên của mình!\n",
        "\n"
      ]
    },
    {
      "cell_type": "markdown",
      "metadata": {
        "id": "92-kOLh_vEEH"
      },
      "source": [
        "<hr/>\n",
        "<div class=\"alert alert-success alertsuccess\" style=\"margin-top: 20px\">\n",
        "    [Tip:] <code>print()</code> là một hàm. Bạn truyền string <code>'Hello, Python!'</code> làm đối số để hướng dẫn những gì Python cần in.\n",
        "</div>\n",
        "<hr/>\n"
      ]
    },
    {
      "cell_type": "markdown",
      "metadata": {
        "id": "9ZOtvPLQvEEI"
      },
      "source": [
        "<h3 id=\"version\">Chúng ta đang dùng Python phiên bản nào?</h3>\n"
      ]
    },
    {
      "cell_type": "markdown",
      "metadata": {
        "id": "fN4BlX-vvEEI"
      },
      "source": [
        "<p>\n",
        "    Có hai phiên bản phổ biến của ngôn ngữ lập trình Python được sử dụng hiện nay là Python 2 và Python 3. Cộng đồng Python đã quyết định chuyển từ Python 2 sang Python 3 và nhiều thư viện phổ biến đã thông báo rằng họ sẽ không hỗ trợ Python 2 nữa.\n",
        "</p>\n",
        "<p>\n",
        "    Vì Python 3 là xu hướng của tương lai nên trong khóa học này, chúng tôi sẽ chỉ sử dụng nó. Làm cách nào để biết rằng notebook của chúng ta được thực thi bởi Python 3 runtime? Chúng ta có thể nhìn vào góc trên bên phải của notebook này và thấy \"Python 3\".\n",
        "</p>\n",
        "<p>\n",
        "    Chúng ta cũng có thể hỏi trực tiếp Python và nhận được câu trả lời chi tiết. Hãy thử thực hiện code sau:\n",
        "</p>\n"
      ]
    },
    {
      "cell_type": "code",
      "execution_count": null,
      "metadata": {
        "id": "QkuUWafhvEEI"
      },
      "outputs": [],
      "source": [
        "# Kiểm tra phiên bản Python\n",
        "\n",
        "import sys\n",
        "print(sys.version)"
      ]
    },
    {
      "cell_type": "markdown",
      "metadata": {
        "id": "aLdsExKvvEEJ"
      },
      "source": [
        "<hr/>\n",
        "<div class=\"alert alert-success alertsuccess\" style=\"margin-top: 20px\">\n",
        "    [Tip:] <code>sys</code> là một mô-đun tích hợp có chứa nhiều tham số và hàm dành riêng cho hệ thống, bao gồm cả phiên bản Python đang được sử dụng. Trước khi sử dụng, chúng ta phải <code>import</code> nó.\n",
        "</div>\n",
        "<hr/>\n"
      ]
    },
    {
      "cell_type": "markdown",
      "metadata": {
        "id": "SOqvR8hSvEEJ"
      },
      "source": [
        "<h3 id=\"comments\">Viết chú thích trong Python</h3>\n"
      ]
    },
    {
      "cell_type": "markdown",
      "metadata": {
        "id": "XIwQOHGtvEEJ"
      },
      "source": [
        "<p>\n",
        "    Ngoài việc viết code, hãy lưu ý rằng bạn luôn nên thêm chú thích vào code của mình. Nó sẽ giúp người khác hiểu điều bạn đang cố gắng hoàn thành (lý do tại sao bạn viết một đoạn code nhất định). Điều này không chỉ giúp <strong>người khác</strong> hiểu code của bạn, nó cũng giúp nhắc nhở <strong>bạn</strong> khi bạn quay trở lại sau vài tuần hoặc vài tháng.</p>\n",
        "\n",
        "<p>\n",
        "    Để viết chú thích bằng Python, hãy sử dụng ký hiệu số <code>#</code> trước khi viết chú thích. Khi bạn chạy code, Python sẽ bỏ qua mọi thứ sau <code>#</code> trên một dòng nhất định.\n",
        "</p>\n"
      ]
    },
    {
      "cell_type": "code",
      "execution_count": null,
      "metadata": {
        "id": "VO9to-OgvEEK"
      },
      "outputs": [],
      "source": [
        "# Thực hành viết chú thích\n",
        "\n",
        "print('Hello, Python!') # This line prints a string\n",
        "# print('Hi')"
      ]
    },
    {
      "cell_type": "markdown",
      "metadata": {
        "id": "KbHOqlEcvEEK"
      },
      "source": [
        "<p>\n",
        "    Sau khi thực thi cell ở trên, bạn sẽ nhận thấy rằng <code>This line prints a string</code> không xuất hiện ở output, vì đó là một chú thích (nên bị Python bỏ qua).\n",
        "</p>\n",
        "<p>\n",
        "    Dòng thứ hai cũng không được thực thi vì <code> print('Hi')</code> cũng được đặt trước bởi kí hiệu số (<code>#</code>)! Vì đây không phải là một chú thích giải thích từ lập trình viên, mà là một dòng code thực tế, chúng ta có thể nói rằng lập trình viên đã <em>chú thích</em> dòng code thứ hai đó.\n",
        "</p>\n"
      ]
    },
    {
      "cell_type": "markdown",
      "metadata": {
        "id": "Oud-FJBzvEEK"
      },
      "source": [
        "<h3 id=\"errors\">Lỗi trong Python</h3>\n"
      ]
    },
    {
      "cell_type": "markdown",
      "metadata": {
        "id": "OXOZoTsZvEEL"
      },
      "source": [
        "<p>Ai cũng mắc sai lầm. Đối với nhiều loại lỗi, Python sẽ đưa ra thông báo để cho bạn biết rằng bạn đã mắc lỗi. Điều quan trọng là phải đọc các thông báo lỗi một cách cẩn thận để thực sự hiểu bạn đã mắc lỗi ở đâu và cách bạn có thể sửa nó.</p>\n",
        "<p>Ví dụ, nếu bạn viết sai chính tả <code>print</code> thành <code>frint</code>, Python sẽ hiển thị thông báo lỗi. Bạn hãy thử xem:</p>\n",
        "\n"
      ]
    },
    {
      "cell_type": "code",
      "execution_count": null,
      "metadata": {
        "id": "v3egNv4GvEEL"
      },
      "outputs": [],
      "source": [
        "# In ra thông báo lỗi\n",
        "\n",
        "frint(\"Hello, Python!\")"
      ]
    },
    {
      "cell_type": "markdown",
      "metadata": {
        "id": "JtPheyOGvEEL"
      },
      "source": [
        "<p>Thông báo lỗi cho bạn biết:  \n",
        "<ol>\n",
        "    <li>nơi nào có lỗi (hữu ích hơn trong các tập lệnh hoặc cell notebook lớn)</li>\n",
        "    <li>đó là loại lỗi nào (Tên lỗi)</li>\n",
        "</ol>\n",
        "<p>Ở đây, Python đã cố gắng chạy hàm <code> frint</code>, nhưng không thể xác định <code> frint</code> là gì vì nó không phải là một hàm tích hợp và chúng ta cũng chưa xác định nó trước đó.</p>\n"
      ]
    },
    {
      "cell_type": "markdown",
      "metadata": {
        "id": "4a0dUEBwvEEL"
      },
      "source": [
        "\n",
        "<p>\n",
        "   Bạn sẽ nhận thấy rằng nếu chúng ta mắc một loại lỗi khác, do quên đóng string, chúng ta sẽ gặp một lỗi khác (ví dụ, <code>SyntaxError</code>). Thử nó dưới đây:\n",
        "</p>\n"
      ]
    },
    {
      "cell_type": "code",
      "execution_count": null,
      "metadata": {
        "id": "xV7s7wD1vEEM"
      },
      "outputs": [],
      "source": [
        "# Hãy thử tạo một thông báo lỗi\n",
        "\n",
        "print(\"Hello, Python!)"
      ]
    },
    {
      "cell_type": "markdown",
      "metadata": {
        "id": "t7UrN41yvEEM"
      },
      "source": [
        "<h3 id=\"python_error\">Python có nhận ra lỗi của bạn trước khi nó chạy code không?</h3>\n"
      ]
    },
    {
      "cell_type": "markdown",
      "metadata": {
        "id": "v8s_R-PkvEEM"
      },
      "source": [
        "Python được gọi là <em>ngôn ngữ thông dịch</em>. Ngôn ngữ biên dịch sẽ kiểm tra toàn bộ chương trình tại thời điểm biên dịch và có thể cảnh bảo bạn về toàn bộ lớp lỗi trước khi thực thi. Ngược lại, python thông dịch dòng tập lệnh khi nó thực thi.Pyhton sẽ ngừng thực thi toàn bộ chương trình khi nó gặp lỗi (trừ khi lỗi được dự tính và xử lý bới lập trình viên, đây là chủ đề nâng cao mà chúng ta sẽ đề cập sau trong khóa này).\n"
      ]
    },
    {
      "cell_type": "markdown",
      "metadata": {
        "id": "NLEDMEjAvEEM"
      },
      "source": [
        "Hãy thử chạy code trong cell bên dưới và xem điều gì sẽ xảy ra:\n"
      ]
    },
    {
      "cell_type": "code",
      "execution_count": null,
      "metadata": {
        "id": "cYUeXgbxvEEM"
      },
      "outputs": [],
      "source": [
        "# In string và lỗi để xem thứ tự chạy\n",
        "\n",
        "print(\"This will be printed\")\n",
        "frint(\"This will cause an error\")\n",
        "print(\"This will NOT be printed\")"
      ]
    },
    {
      "cell_type": "markdown",
      "metadata": {
        "id": "pjwoA7pvvEEN"
      },
      "source": [
        "<h3 id=\"exercise\">Exercise: Chương trình đầu tiên</h3>\n"
      ]
    },
    {
      "cell_type": "markdown",
      "metadata": {
        "id": "R0jlnepHvEEN"
      },
      "source": [
        "<p>Nhiều thế hệ lập trình viên đã bắt đầu sự nghiệp viết code của họ bằng cách in dòng chữ \"Hello, world!\". Bạn sẽ theo bước họ.</p>\n",
        "<p>Trong cell code bên dưới, sử dụng hàm <code> print()</code> để in ra cụm: <code> Hello, world!</code></p>\n",
        "\n"
      ]
    },
    {
      "cell_type": "code",
      "execution_count": null,
      "metadata": {
        "id": "cZY3eUUwvEEN"
      },
      "outputs": [],
      "source": [
        "# Viết code của bạn xuống dưới đây. Đừng quên ấn Shift+Enter để thực thi cell\n"
      ]
    },
    {
      "cell_type": "markdown",
      "metadata": {
        "id": "8UXUFkMcvEEN"
      },
      "source": [
        "<details><summary>Click vào đây để xem lời giải</summary>\n",
        "\n",
        "```python\n",
        "print(\"Hello, world!\")\n",
        "\n",
        "```\n",
        "\n",
        "</details>\n"
      ]
    },
    {
      "cell_type": "markdown",
      "metadata": {
        "id": "hbg_fijcvEEN"
      },
      "source": [
        "<p>Bây giờ, hãy nâng cao code của bạn bằng một chú thích. Trong cell code bên dưới, hãy in ra cụm: <code> Hello, world! </code> và chú thích nó bằng cụm <code> Print the hello world </code> truyền thống, tất cả trong một dòng code.</p>\n"
      ]
    },
    {
      "cell_type": "code",
      "execution_count": null,
      "metadata": {
        "id": "vFVC3hiHvEEO"
      },
      "outputs": [],
      "source": [
        "# Write your code below. Don't forget to press Shift+Enter to execute the cell\n"
      ]
    },
    {
      "cell_type": "markdown",
      "metadata": {
        "id": "xj9g97givEEO"
      },
      "source": [
        "<details><summary>Click vào đây để xem lời giải</summary>\n",
        "\n",
        "```python\n",
        "print(\"Hello, world!\") # Print the traditional hello world\n",
        "\n",
        "```\n",
        "\n",
        "</details>\n"
      ]
    },
    {
      "cell_type": "markdown",
      "metadata": {
        "id": "GqHFE9t1vEEO"
      },
      "source": [
        "<hr>\n"
      ]
    },
    {
      "cell_type": "markdown",
      "metadata": {
        "id": "_x36aVyuvEEO"
      },
      "source": [
        "<h2 id=\"types_objects\" align=\"center\">Các kiểu đối tượng trong Python</h2>\n"
      ]
    },
    {
      "cell_type": "markdown",
      "metadata": {
        "id": "s9SXF9sRvEEO"
      },
      "source": [
        "<p>Python là ngôn ngữ hướng đối tượng. Có nhiều loại đối tượng khác nhau trong Python. Hãy bắt đầu với các loại đối tượng phổ biến nhất: <i> string (chuỗi) </i>, <i> integer (số nguyên)</i> và <i> float (số thực)</i>. Bất cứ khi nào bạn viết từ (văn bản) bằng Python, bạn đang sử dụng <i> chuỗi ký tự </i> (viết tắt là chuỗi). Mặt khác, các số phổ biến nhất là <i> số nguyên </i> (ví dụ: -1, 0, 100) và <i> float </i>, đại diện cho các số thực (ví dụ: 3,14, -42,0).</p>\n"
      ]
    },
    {
      "cell_type": "markdown",
      "metadata": {
        "id": "k2PWkyM6vEEO"
      },
      "source": [
        "<a align=\"center\">\n",
        "    <img src=\"https://cf-courses-data.s3.us.cloud-object-storage.appdomain.cloud/IBMDeveloperSkillsNetwork-PY0101EN-SkillsNetwork/labs/Module%201/images/TypesObjects.png\" width=\"600\">\n",
        "</a>\n"
      ]
    },
    {
      "cell_type": "markdown",
      "metadata": {
        "id": "U5Vh6VcJvEEP"
      },
      "source": [
        "<p>Các cell code sau chứa một số ví dụ.</p>\n"
      ]
    },
    {
      "cell_type": "code",
      "execution_count": null,
      "metadata": {
        "id": "O6zlijcivEEP"
      },
      "outputs": [],
      "source": [
        "# Integer\n",
        "\n",
        "11"
      ]
    },
    {
      "cell_type": "code",
      "execution_count": null,
      "metadata": {
        "id": "VkDEJmWLvEEP"
      },
      "outputs": [],
      "source": [
        "# Float\n",
        "\n",
        "2.14"
      ]
    },
    {
      "cell_type": "code",
      "execution_count": null,
      "metadata": {
        "id": "TYH-oDPYvEEP"
      },
      "outputs": [],
      "source": [
        "# String\n",
        "\n",
        "\"Hello, Python 101!\""
      ]
    },
    {
      "cell_type": "markdown",
      "metadata": {
        "id": "ud7tiFahvEEQ"
      },
      "source": [
        "<p>Bạn có thể yêu cầu Python cho bạn biết kiểu của biểu thức bằng cách sử dụng hàm <code> type()</code> tích hợp sẵn. Bạn sẽ nhận thấy rằng Python đề cập đến các số nguyên là <code> int</code>, số thực là <code> float</code> và các chuỗi ký tự là <code>str</code>.</p>\n"
      ]
    },
    {
      "cell_type": "code",
      "execution_count": null,
      "metadata": {
        "id": "BTMlS1oPvEEQ"
      },
      "outputs": [],
      "source": [
        "# Kiểu của 12\n",
        "\n",
        "type(12)"
      ]
    },
    {
      "cell_type": "code",
      "execution_count": null,
      "metadata": {
        "id": "SYYxdD0dvEEQ"
      },
      "outputs": [],
      "source": [
        "# Kiểu của 2.14\n",
        "\n",
        "type(2.14)"
      ]
    },
    {
      "cell_type": "code",
      "execution_count": null,
      "metadata": {
        "id": "2SC3spx4vEEQ"
      },
      "outputs": [],
      "source": [
        "# Kiểu của \"Hello, Python 101!\"\n",
        "\n",
        "type(\"Hello, Python 101!\")"
      ]
    },
    {
      "cell_type": "markdown",
      "metadata": {
        "id": "gIBQbgkLvEEQ"
      },
      "source": [
        "\n",
        "<p>Trong cell code bên dưới, sử dụng hàm <code> type()</code> để kiểm tra kiểu đối tượng của <code>12.0</code>.\n"
      ]
    },
    {
      "cell_type": "code",
      "execution_count": null,
      "metadata": {
        "id": "GCdXEeMovEER"
      },
      "outputs": [],
      "source": [
        "# Write your code below. Don't forget to press Shift+Enter to execute the cell\n"
      ]
    },
    {
      "cell_type": "markdown",
      "metadata": {
        "id": "LGRF5f77vEER"
      },
      "source": [
        "<details><summary>Click vào đây để xem lời giải</summary>\n",
        "\n",
        "```python\n",
        "type(12.0)\n",
        "\n",
        "```\n",
        "\n",
        "</details>\n"
      ]
    },
    {
      "cell_type": "markdown",
      "metadata": {
        "id": "p6mwST13vEER"
      },
      "source": [
        "<h3 id=\"int\">Số nguyên</h3>\n"
      ]
    },
    {
      "cell_type": "markdown",
      "metadata": {
        "id": "qL9vvXvtvEER"
      },
      "source": [
        "<p>Dưới đây là một số ví dụ về số nguyên. Số nguyên có thể là số âm hoặc số dương:</p>\n"
      ]
    },
    {
      "cell_type": "markdown",
      "metadata": {
        "id": "q9q8CHifvEER"
      },
      "source": [
        "<a align=\"center\">\n",
        "    <img src=\"https://cf-courses-data.s3.us.cloud-object-storage.appdomain.cloud/IBMDeveloperSkillsNetwork-PY0101EN-SkillsNetwork/labs/Module%201/images/TypesInt.png\" width=\"600\">\n",
        "</a>\n"
      ]
    },
    {
      "cell_type": "markdown",
      "metadata": {
        "id": "w4Yg4-ljvEER"
      },
      "source": [
        "<p> Chúng ta có thể xác minh đây là trường hợp bằng cách sử dụng, chắc bạn cũng đoán được, là hàm <code>type()</code>:\n"
      ]
    },
    {
      "cell_type": "code",
      "execution_count": 2,
      "metadata": {
        "colab": {
          "base_uri": "https://localhost:8080/"
        },
        "id": "yNaIGvHkvEES",
        "outputId": "c4860ec6-af8f-42cc-87da-2db304a82b1a"
      },
      "outputs": [
        {
          "data": {
            "text/plain": [
              "int"
            ]
          },
          "execution_count": 2,
          "metadata": {},
          "output_type": "execute_result"
        }
      ],
      "source": [
        "# In ra kiểu của -1\n",
        "\n",
        "type(-1)"
      ]
    },
    {
      "cell_type": "code",
      "execution_count": null,
      "metadata": {
        "id": "cEMTwwKjvEES"
      },
      "outputs": [],
      "source": [
        "# In ra kiểu của 4\n",
        "\n",
        "type(4)"
      ]
    },
    {
      "cell_type": "code",
      "execution_count": null,
      "metadata": {
        "id": "U_vFdzAAvEES"
      },
      "outputs": [],
      "source": [
        "# In ra kiểu của 0\n",
        "\n",
        "type(0)"
      ]
    },
    {
      "cell_type": "markdown",
      "metadata": {
        "id": "6YIZJTcjvEES"
      },
      "source": [
        "<h3 id=\"float\">Float</h3>\n"
      ]
    },
    {
      "cell_type": "markdown",
      "metadata": {
        "id": "5SrlkCF1vEES"
      },
      "source": [
        "<p> Float đại diện cho số thực; chúng là một tập hợp các số nguyên nhưng cũng bao gồm \"các số thập phân\". Có một số hạn chế khi nói đến máy biểu diễn số thực, nhưng số dấu phẩy động là một đại diện tốt trong hầu hết các trường hợp. Bạn có thể tìm hiểu chi tiết thêm về float cho môi trường runtime, bằng cách kiểm tra giá trị của <code> sys.float_info</code>. Điều này cũng sẽ cho bạn biết số lớn nhất và nhỏ nhất có thể được biểu thị với chúng là gì.</p>\n",
        "\n",
        "<p>Một lần nữa, có thể kiểm tra một số ví dụ với hàm <code> type()</code>:\n"
      ]
    },
    {
      "cell_type": "code",
      "execution_count": null,
      "metadata": {
        "id": "2n2ZIwoZvEES"
      },
      "outputs": [],
      "source": [
        "# In ra kiểu của 1.0\n",
        "\n",
        "type(1.0) # Notice that 1 is an int, and 1.0 is a float"
      ]
    },
    {
      "cell_type": "code",
      "execution_count": null,
      "metadata": {
        "id": "V98Z3E7cvEET"
      },
      "outputs": [],
      "source": [
        "# In ra kiểu của 0.5\n",
        "\n",
        "type(0.5)"
      ]
    },
    {
      "cell_type": "code",
      "execution_count": null,
      "metadata": {
        "id": "c-qR-RuHvEET"
      },
      "outputs": [],
      "source": [
        "# In ra kiểu của 0.56\n",
        "\n",
        "type(0.56)"
      ]
    },
    {
      "cell_type": "code",
      "execution_count": null,
      "metadata": {
        "id": "y3UjFvbcvEET"
      },
      "outputs": [],
      "source": [
        "# Thiết lập hệ thống về kiểu của float\n",
        "\n",
        "sys.float_info"
      ]
    },
    {
      "cell_type": "markdown",
      "metadata": {
        "id": "g-nRC80-vEET"
      },
      "source": [
        "<h3 id=\"convert\">Chuyển đổi một kiểu đối tượng sang kiểu đối tượng khác</h3>\n"
      ]
    },
    {
      "cell_type": "markdown",
      "metadata": {
        "id": "LnafWOjdvEEU"
      },
      "source": [
        "<p> Bạn có thể thay đổi kiểu đối tượng trong Python; điều này được gọi là typecasting (ép kiểu). Ví dụ: bạn có thể chuyển đổi <i> số nguyên </i> thành <i> số thực </i> (ví dụ: 2 thành 2.0). </p>\n",
        "<p> Hãy thử nó: </p>\n"
      ]
    },
    {
      "cell_type": "code",
      "execution_count": null,
      "metadata": {
        "id": "9CG7ma5yvEEU"
      },
      "outputs": [],
      "source": [
        "# Xác thực đây là một số nguyên\n",
        "\n",
        "type(2)"
      ]
    },
    {
      "cell_type": "markdown",
      "metadata": {
        "id": "ph1CB_1svEEU"
      },
      "source": [
        "<h4>Chuyển số nguyên thành số thực</h4>\n",
        "<p>Hãy chuyển số nguyên 2 thành số thực:</p>\n"
      ]
    },
    {
      "cell_type": "code",
      "execution_count": null,
      "metadata": {
        "id": "2WXPnHKQvEEU"
      },
      "outputs": [],
      "source": [
        "# Chuyển 2 thành một số thực\n",
        "\n",
        "float(2)"
      ]
    },
    {
      "cell_type": "code",
      "execution_count": null,
      "metadata": {
        "id": "Mh573VXFvEEU"
      },
      "outputs": [],
      "source": [
        "# Chuyển số nguyên 2 thành một số thực và kiểm tra kiểu của nó\n",
        "\n",
        "type(float(2))"
      ]
    },
    {
      "cell_type": "markdown",
      "metadata": {
        "id": "A1NAiZS9vEEU"
      },
      "source": [
        "\n",
        "<p> Khi chúng ta chuyển đổi một số nguyên thành một số thực, chúng ta không thực sự thay đổi giá trị (tức là ý nghĩa) của số đó. Tuy nhiên, nếu chúng ta ép kiểu số thực thành một số nguyên, chúng ta có thể mất một số thông tin. Ví dụ: nếu chúng ta ép kiểu số thực 1.1 thành số nguyên, chúng ta sẽ nhận được 1 và mất thông tin phần thập phân (tức là 0,1): </p>\n",
        "\n"
      ]
    },
    {
      "cell_type": "code",
      "execution_count": null,
      "metadata": {
        "id": "jKy4vNplvEEV"
      },
      "outputs": [],
      "source": [
        "# Ép kiểu 1.1 thành số nguyên sẽ mất thông tin\n",
        "\n",
        "int(1.1)"
      ]
    },
    {
      "cell_type": "markdown",
      "metadata": {
        "id": "by0gvkhtvEEV"
      },
      "source": [
        "<h4> Chuyển đổi từ string thành số nguyên hoặc số thực </h4>\n"
      ]
    },
    {
      "cell_type": "markdown",
      "metadata": {
        "id": "5W0g1H_FvEEV"
      },
      "source": [
        "<p> Đôi khi, chúng ta có thể có một string chứa một số bên trong nó. Nếu đúng như vậy, chúng ta có thể ép string biểu thị một số thành một số nguyên bằng cách sử dụng <code> int()</code>: </p>\n"
      ]
    },
    {
      "cell_type": "code",
      "execution_count": null,
      "metadata": {
        "id": "-Fu_yKrovEEV"
      },
      "outputs": [],
      "source": [
        "# Chuyển string thành một số nguyên\n",
        "\n",
        "int('1')"
      ]
    },
    {
      "cell_type": "markdown",
      "metadata": {
        "id": "zWC-VtgavEEV"
      },
      "source": [
        "<p> Nhưng nếu bạn cố gắng làm như vậy với một string không phải là một kết hợp hoàn hảo cho một số, bạn sẽ gặp lỗi. Hãy thử những cách sau: </p>\n"
      ]
    },
    {
      "cell_type": "code",
      "execution_count": null,
      "metadata": {
        "id": "XgGB2zCFvEEW"
      },
      "outputs": [],
      "source": [
        "# Chuyển string thành một số nguyên với lỗi\n",
        "int('1 or 2 people')"
      ]
    },
    {
      "cell_type": "markdown",
      "metadata": {
        "id": "HVFuSB39vEEW"
      },
      "source": [
        "<p> Bạn cũng có thể chuyển đổi các string chứa số dấu phẩy động thành các đối tượng <i> số thực</i>: </p>\n"
      ]
    },
    {
      "cell_type": "code",
      "execution_count": null,
      "metadata": {
        "id": "Y_SLI0lRvEEW"
      },
      "outputs": [],
      "source": [
        "# Chuyển đổi string \"1.2\" thành một số thực\n",
        "\n",
        "float('1.2')"
      ]
    },
    {
      "cell_type": "markdown",
      "metadata": {
        "id": "coAyShP8vEEW"
      },
      "source": [
        "<hr/>\n",
        "<div class=\"alert alert-success alertsuccess\" style=\"margin-top: 20px\">\n",
        "    [Tip:] Lưu ý rằng các string có thể được biểu diễn bằng các dấu nháy đơn (<code>'1.2'</code>) hoặc dấu nháy đôi (<code>\"1.2\"</code>), nhưng bạn không thể kết hợp cả hai (ví dụ, <code>\"1.2'</code>).\n",
        "</div>\n",
        "<hr/>\n"
      ]
    },
    {
      "cell_type": "markdown",
      "metadata": {
        "id": "zXZu3TcbvEEW"
      },
      "source": [
        "<h4>Chuyển số thành string</h4>\n"
      ]
    },
    {
      "cell_type": "markdown",
      "metadata": {
        "id": "DNEwcovavEEX"
      },
      "source": [
        "\n",
        "<p>Nếu chúng ta có thể chuyển đổi string thành số, thì chúng ta cũng có thể chuyển đổi số thành string phải không?</p>\n"
      ]
    },
    {
      "cell_type": "code",
      "execution_count": null,
      "metadata": {
        "id": "VX2dZznjvEEX"
      },
      "outputs": [],
      "source": [
        "# Chuyển đổi số nguyên thành string\n",
        "\n",
        "str(1)\n"
      ]
    },
    {
      "cell_type": "markdown",
      "metadata": {
        "id": "pGcjYSn3vEEX"
      },
      "source": [
        "<p>Và không có lý do gì chúng ta không thể biến số thực thành string:</p>\n"
      ]
    },
    {
      "cell_type": "code",
      "execution_count": null,
      "metadata": {
        "id": "jCrAJ0Y_vEEX"
      },
      "outputs": [],
      "source": [
        "# Chuyển đổi thực thành string\n",
        "\n",
        "str(1.2)"
      ]
    },
    {
      "cell_type": "markdown",
      "metadata": {
        "id": "_rCC8yhFvEEY"
      },
      "source": [
        "<h3 id=\"bool\">Kiểu dữ liệu Boolean</h3>\n"
      ]
    },
    {
      "cell_type": "markdown",
      "metadata": {
        "id": "uAWBWDfTvEEY"
      },
      "source": [
        "\n",
        "<p> <i> Boolean </i> là một kiểu dữ liệu quan trọng khác trong Python. Đối tượng kiểu <i> Boolean </i> có thể nhận một trong hai giá trị <code> True</code> hoặc <code> False</code>: </p>\n"
      ]
    },
    {
      "cell_type": "code",
      "execution_count": null,
      "metadata": {
        "id": "3Acj_YhpvEEY"
      },
      "outputs": [],
      "source": [
        "# Giá trị True\n",
        "\n",
        "True"
      ]
    },
    {
      "cell_type": "markdown",
      "metadata": {
        "id": "3Ji5AqLqvEEY"
      },
      "source": [
        "<p> Lưu ý rằng giá trị <code> True </code> có chữ \"T\" viết hoa. Điều này cũng đúng với <code> False </code> (tức là bạn phải sử dụng chữ \"F\" viết hoa). </p>\n"
      ]
    },
    {
      "cell_type": "code",
      "execution_count": 3,
      "metadata": {
        "colab": {
          "base_uri": "https://localhost:8080/"
        },
        "id": "LwVL5CgtvEEY",
        "outputId": "fd6a90f0-67be-497f-c82b-0ef32875ad65"
      },
      "outputs": [
        {
          "data": {
            "text/plain": [
              "False"
            ]
          },
          "execution_count": 3,
          "metadata": {},
          "output_type": "execute_result"
        }
      ],
      "source": [
        "# Giá trị False\n",
        "\n",
        "False"
      ]
    },
    {
      "cell_type": "markdown",
      "metadata": {
        "id": "m_W8vMddvEEY"
      },
      "source": [
        "\n",
        "<p> Khi bạn yêu cầu Python hiển thị kiểu đối tượng Boolean, nó sẽ hiển thị <code> bool</code> là viết tắt của <i> boolean</i>: </p>\n"
      ]
    },
    {
      "cell_type": "code",
      "execution_count": null,
      "metadata": {
        "id": "Sq-df8fZvEEZ"
      },
      "outputs": [],
      "source": [
        "# Kiểu của True\n",
        "\n",
        "type(True)"
      ]
    },
    {
      "cell_type": "code",
      "execution_count": null,
      "metadata": {
        "id": "GbbZoKBFvEEZ"
      },
      "outputs": [],
      "source": [
        "# Kiểu của False\n",
        "\n",
        "type(False)"
      ]
    },
    {
      "cell_type": "markdown",
      "metadata": {
        "id": "p_NU8WKuvEEZ"
      },
      "source": [
        "<p> Chúng ta có thể chuyển đối tượng boolean sang các kiểu dữ liệu khác. Nếu chúng ta chuyển kiểu boolean có giá trị <code> True</code> thành một số nguyên hoặc số thực, chúng ta sẽ nhận được 1. Nếu chuyển kiểu boolean có giá trị <code> False </code> thành một số nguyên hoặc số thực, chúng ta sẽ nhận được 0. Tương tự, nếu chúng ta chuyển 1 thành Boolean, bạn sẽ nhận được <code> True</code>. Và nếu chúng ta chuyển 0 thành Boolean, chúng ta sẽ nhận được <code> False</code>. Hãy thử xem: </p>\n"
      ]
    },
    {
      "cell_type": "code",
      "execution_count": null,
      "metadata": {
        "id": "-cAwX__OvEEZ"
      },
      "outputs": [],
      "source": [
        "# Chuyển True thành int\n",
        "\n",
        "int(True)"
      ]
    },
    {
      "cell_type": "code",
      "execution_count": null,
      "metadata": {
        "id": "bkoG9XC5vEEZ"
      },
      "outputs": [],
      "source": [
        "# Chuyển 1 thành boolean\n",
        "\n",
        "bool(1)"
      ]
    },
    {
      "cell_type": "code",
      "execution_count": null,
      "metadata": {
        "id": "VX6AvFWuvEEZ"
      },
      "outputs": [],
      "source": [
        "# Chuyển 0 thành boolean\n",
        "\n",
        "bool(0)"
      ]
    },
    {
      "cell_type": "code",
      "execution_count": 4,
      "metadata": {
        "colab": {
          "base_uri": "https://localhost:8080/"
        },
        "id": "MSc3T4xcvEEa",
        "outputId": "31e50129-12f5-458a-99d0-6cc6b346a2fe"
      },
      "outputs": [
        {
          "data": {
            "text/plain": [
              "1.0"
            ]
          },
          "execution_count": 4,
          "metadata": {},
          "output_type": "execute_result"
        }
      ],
      "source": [
        "# Chuyển True thành float\n",
        "\n",
        "float(True)"
      ]
    },
    {
      "cell_type": "markdown",
      "metadata": {
        "id": "bWolNRzcvEEa"
      },
      "source": [
        "<h3 id=\"exer_type\">Exercise: Các kiểu dữ liệu</h3>\n"
      ]
    },
    {
      "cell_type": "markdown",
      "metadata": {
        "id": "LKJxpuW6vEEa"
      },
      "source": [
        "<p>Kiểu dữ liệu của kết quả sau là: <code>6 / 2</code>?</p>\n"
      ]
    },
    {
      "cell_type": "code",
      "execution_count": null,
      "metadata": {
        "id": "OaTohWHovEEa"
      },
      "outputs": [],
      "source": [
        "# Viêt code của bạn xuống dưới đây. Đừng quên ấn Shift+Enter để thực thi code\n"
      ]
    },
    {
      "cell_type": "markdown",
      "metadata": {
        "id": "4i2Zyy8JvEEa"
      },
      "source": [
        "<details><summary>Click vào đây để xem lời giải</summary>\n",
        "\n",
        "```python\n",
        "type(6/2) # float\n",
        "\n",
        "```\n",
        "\n",
        "</details>\n"
      ]
    },
    {
      "cell_type": "markdown",
      "metadata": {
        "id": "jARV1IvbvEEb"
      },
      "source": [
        "<p>Kiểu dữ liệu của kết quả sau là: <code>6 // 2</code>? (Chú ý dấu <code>//</code>.)</p>\n"
      ]
    },
    {
      "cell_type": "code",
      "execution_count": null,
      "metadata": {
        "id": "SpWQD6AMvEEb"
      },
      "outputs": [],
      "source": [
        "# Viêt code của bạn xuống dưới đây. Đừng quên ấn Shift+Enter để thực thi code\n"
      ]
    },
    {
      "cell_type": "markdown",
      "metadata": {
        "id": "nC6NUyvuvEEb"
      },
      "source": [
        "<details><summary>Click vào đây để xem lời giải</summary>\n",
        "\n",
        "```python\n",
        "type(6//2) # int, as the double slashes stand for integer division\n",
        "\n",
        "```\n",
        "\n",
        "</details>\n"
      ]
    },
    {
      "cell_type": "markdown",
      "metadata": {
        "id": "UgajNHlevEEb"
      },
      "source": [
        "<hr>\n"
      ]
    },
    {
      "cell_type": "markdown",
      "metadata": {
        "id": "jIXwdMNAvEEb"
      },
      "source": [
        "<h2 id=\"expressions\">Biểu thức và biến</h2>\n"
      ]
    },
    {
      "cell_type": "markdown",
      "metadata": {
        "id": "ehLf1izZvEEb"
      },
      "source": [
        "<h3 id=\"exp\">Biểu thức</h3>\n"
      ]
    },
    {
      "cell_type": "markdown",
      "metadata": {
        "id": "5NBiBZ-PvEEc"
      },
      "source": [
        "<p> Các biểu thức trong Python có thể gồm các phép toán của các kiểu tương thích (ví dụ: số nguyên và số thực). Ví dụ: các phép toán số học cơ bản như cộng nhiều số: </p>"
      ]
    },
    {
      "cell_type": "code",
      "execution_count": null,
      "metadata": {
        "id": "WWovHbhFvEEc"
      },
      "outputs": [],
      "source": [
        "# Biểu thức phép cộng\n",
        "\n",
        "43 + 60 + 16 + 41"
      ]
    },
    {
      "cell_type": "markdown",
      "metadata": {
        "id": "HI6brLuwvEEc"
      },
      "source": [
        "\n",
        "<p> Chúng ta có thể thực hiện các phép tính trừ bằng toán tử trừ. Trong trường hợp này, kết quả là một số âm: </p>\n"
      ]
    },
    {
      "cell_type": "code",
      "execution_count": null,
      "metadata": {
        "id": "srTMc7TAvEEc"
      },
      "outputs": [],
      "source": [
        "# Biểu thức phép trừ\n",
        "\n",
        "50 - 60"
      ]
    },
    {
      "cell_type": "markdown",
      "metadata": {
        "id": "eNczp-0RvEEc"
      },
      "source": [
        "<p>Chúng ta có thể thực hiện phép nhân sử dụng dấu hoa thị: </p>"
      ]
    },
    {
      "cell_type": "code",
      "execution_count": null,
      "metadata": {
        "id": "FmT_d4CGvEEd"
      },
      "outputs": [],
      "source": [
        "# Biểu thức phép nhân\n",
        "\n",
        "5 * 5"
      ]
    },
    {
      "cell_type": "markdown",
      "metadata": {
        "id": "V6PQcc9JvEEd"
      },
      "source": [
        "<p>Chúng ta cũng có thể thực hiện phép chia bằng dấu gạch chéo:\n"
      ]
    },
    {
      "cell_type": "code",
      "execution_count": null,
      "metadata": {
        "id": "fI5D2c_svEEd"
      },
      "outputs": [],
      "source": [
        "# Biểu thức phép chia\n",
        "\n",
        "25 / 5"
      ]
    },
    {
      "cell_type": "code",
      "execution_count": null,
      "metadata": {
        "id": "HqULSXfcvEEd"
      },
      "outputs": [],
      "source": [
        "# Biểu thức phép chia\n",
        "\n",
        "25 / 6"
      ]
    },
    {
      "cell_type": "markdown",
      "metadata": {
        "id": "j9di2FlMvEEd"
      },
      "source": [
        "\n",
        "<p> Như đã thấy ở quiz ở trên, chúng ta có thể sử dụng dấu gạch chéo kép để chia số nguyên, trong đó kết quả được làm tròn tới số nguyên gần nhất:"
      ]
    },
    {
      "cell_type": "code",
      "execution_count": null,
      "metadata": {
        "id": "B8X8ub_AvEEe"
      },
      "outputs": [],
      "source": [
        "# Biểu thức phép chia số nguyên\n",
        "\n",
        "25 // 5"
      ]
    },
    {
      "cell_type": "code",
      "execution_count": null,
      "metadata": {
        "id": "oSaotm3CvEEe"
      },
      "outputs": [],
      "source": [
        "# Biểu thức phép chia số nguyên\n",
        "\n",
        "25 // 6"
      ]
    },
    {
      "cell_type": "markdown",
      "metadata": {
        "id": "c5g4x-c-vEEe"
      },
      "source": [
        "<h3 id=\"exer_exp\">Exercise: Biểu thức</h3>\n"
      ]
    },
    {
      "cell_type": "markdown",
      "metadata": {
        "id": "Oe5ol9vrvEEe"
      },
      "source": [
        "\n",
        "<p> Hãy viết biểu thức tính xem có bao nhiêu giờ trong 160 phút:"
      ]
    },
    {
      "cell_type": "code",
      "execution_count": null,
      "metadata": {
        "id": "2fnVNBvqvEEe"
      },
      "outputs": [],
      "source": [
        "# Viêt code của bạn xuống dưới đây. Đừng quên ấn Shift+Enter để thực thi code\n"
      ]
    },
    {
      "cell_type": "markdown",
      "metadata": {
        "id": "nyuSUTLmvEEe"
      },
      "source": [
        "<details><summary>Click vào đây để xem lời giải</summary>\n",
        "\n",
        "```python\n",
        "160/60\n",
        "\n",
        "# Or\n",
        "\n",
        "160//60\n",
        "\n",
        "```\n",
        "\n",
        "</details>\n"
      ]
    },
    {
      "cell_type": "markdown",
      "metadata": {
        "id": "4lmxoNvQvEEf"
      },
      "source": [
        "\n",
        "<p> Python tuân theo các quy ước toán học được thống nhất khi xét các biểu thức toán học. Trong ví dụ sau, Python thêm 30 vào kết quả của phép nhân (tức là 120).\n"
      ]
    },
    {
      "cell_type": "code",
      "execution_count": null,
      "metadata": {
        "id": "OBvR3osGvEEf"
      },
      "outputs": [],
      "source": [
        "# Biểu thức toán học\n",
        "\n",
        "30 + 2 * 60"
      ]
    },
    {
      "cell_type": "markdown",
      "metadata": {
        "id": "U8j5CdFqvEEf"
      },
      "source": [
        "\n",
        "<p> Và cũng giống như toán học, các biểu thức được đặt trong dấu ngoặc đơn được ưu tiên thực hiện trước. Vì vậy, sau đây nhân 32 với 60.\n"
      ]
    },
    {
      "cell_type": "code",
      "execution_count": null,
      "metadata": {
        "id": "GOfP6_r_vEEf"
      },
      "outputs": [],
      "source": [
        "# Biểu thức toán học\n",
        "\n",
        "(30 + 2) * 60"
      ]
    },
    {
      "cell_type": "markdown",
      "metadata": {
        "id": "ZjmDeJtqvEEf"
      },
      "source": [
        "<h3 id=\"var\">Biến</h3>\n"
      ]
    },
    {
      "cell_type": "markdown",
      "metadata": {
        "id": "emBBGMntvEEf"
      },
      "source": [
        "\n",
        "<p> Cũng giống như với hầu hết các ngôn ngữ lập trình, chúng ta có thể lưu trữ các giá trị trong <i> biến</i> để có thể sử dụng chúng sau này. Ví dụ: </p>"
      ]
    },
    {
      "cell_type": "code",
      "execution_count": null,
      "metadata": {
        "id": "avhwclAsvEEg"
      },
      "outputs": [],
      "source": [
        "# Lưu trữ giá trị trong biến\n",
        "\n",
        "x = 43 + 60 + 16 + 41"
      ]
    },
    {
      "cell_type": "markdown",
      "metadata": {
        "id": "wo6oxnyxvEEg"
      },
      "source": [
        "\n",
        "<p> Để xem giá trị của <code> x</code> trong Notebook, chúng ta chỉ cần đặt nó vào dòng cuối cùng của cell: </p>\n"
      ]
    },
    {
      "cell_type": "code",
      "execution_count": null,
      "metadata": {
        "id": "1wOwCeWCvEEg"
      },
      "outputs": [],
      "source": [
        "# In ra giá trị trong biến\n",
        "\n",
        "x"
      ]
    },
    {
      "cell_type": "markdown",
      "metadata": {
        "id": "NjSGPXu3vEEg"
      },
      "source": [
        "<p> Chúng ta cũng có thể thực hiện các phép toán trên <code> x</code> và lưu kết quả vào một biến mới: </p>\n"
      ]
    },
    {
      "cell_type": "code",
      "execution_count": null,
      "metadata": {
        "id": "_834ZifzvEEh"
      },
      "outputs": [],
      "source": [
        "# Sử dụng một biến khác để lưu kết quả của phép toán giữa biến và giá trị\n",
        "\n",
        "y = x / 60\n",
        "y"
      ]
    },
    {
      "cell_type": "markdown",
      "metadata": {
        "id": "UXdJtqdivEEh"
      },
      "source": [
        "<p> Nếu chúng ta lưu giá trị vào một biến hiện có, giá trị mới sẽ ghi đè lên giá trị trước đó: </p>\n"
      ]
    },
    {
      "cell_type": "code",
      "execution_count": null,
      "metadata": {
        "id": "8YKWejvevEEh"
      },
      "outputs": [],
      "source": [
        "# Ghi đè biến với giá trị mới\n",
        "\n",
        "x = x / 60\n",
        "x"
      ]
    },
    {
      "cell_type": "markdown",
      "metadata": {
        "id": "JW3zFyqevEEi"
      },
      "source": [
        "<p> Có một cách hay là sử dụng các tên biến có ý nghĩa để bạn và những người khác có thể đọc và hiểu code dễ dàng hơn: </p>\n"
      ]
    },
    {
      "cell_type": "code",
      "execution_count": null,
      "metadata": {
        "id": "Cgx0UhGQvEEi"
      },
      "outputs": [],
      "source": [
        "# Đặt tên biến có ý nghĩa\n",
        "\n",
        "total_min = 43 + 42 + 57 # Tổng thời gian của album tính theo phút\n",
        "total_min"
      ]
    },
    {
      "cell_type": "code",
      "execution_count": null,
      "metadata": {
        "id": "UWmZhJV4vEEi"
      },
      "outputs": [],
      "source": [
        "# Đặt tên biến có ý nghĩa\n",
        "\n",
        "total_hours = total_min / 60 # Tổng thời gian của album tính theo giờ\n",
        "total_hours"
      ]
    },
    {
      "cell_type": "markdown",
      "metadata": {
        "id": "ftr884cnvEEi"
      },
      "source": [
        "\n",
        "<p> Trong các cell ở trên, chúng ta đã thêm thời lượng của 3 album tính bằng phút và lưu trữ nó trong <code> total_min</code>. Sau đó, chúng ta chia nó cho 60 để tính tổng thời lượng <code> total_hours </code> theo giờ. Bạn cũng có thể thực hiện tất cả cùng một lúc trong một biểu thức, miễn là bạn sử dụng dấu ngoặc đơn để thêm độ dài album trước khi chia, như minh họa bên dưới. </p>\n"
      ]
    },
    {
      "cell_type": "code",
      "execution_count": null,
      "metadata": {
        "id": "2wryyELTvEEj"
      },
      "outputs": [],
      "source": [
        "# Biểu thức phức tạp\n",
        "\n",
        "total_hours = (43 + 42 + 57) / 60  # Tổng số giờ trong một biểu thức duy nhất\n",
        "total_hours"
      ]
    },
    {
      "cell_type": "markdown",
      "metadata": {
        "id": "YmBfDsyuvEEj"
      },
      "source": [
        "\n",
        "<p> Nếu bạn muốn có tổng số giờ dưới dạng số nguyên, tất nhiên bạn có thể thay thế phép chia dấu phẩy động bằng phép chia số nguyên (tức là <code> //</code>). </p>\n"
      ]
    },
    {
      "cell_type": "markdown",
      "metadata": {
        "id": "ybSr9zQcvEEj"
      },
      "source": [
        "<h3 id=\"exer_exp_var\">Exercise: Biểu thức và Biến trong Python</h3>\n"
      ]
    },
    {
      "cell_type": "markdown",
      "metadata": {
        "id": "sKx21u2yvEEj"
      },
      "source": [
        "<p>Giá trị của <code>x</code> trong <code>x = 3 + 2 * 2</code> là gì?</p>\n"
      ]
    },
    {
      "cell_type": "code",
      "execution_count": 1,
      "metadata": {
        "id": "9gEZPkH7vEEj"
      },
      "outputs": [],
      "source": [
        "# Viêt code của bạn xuống dưới đây. Đừng quên ấn Shift+Enter để thực thi code\n",
        "x = 3 + 3 * 2"
      ]
    },
    {
      "cell_type": "markdown",
      "metadata": {
        "id": "Yz37BZVnvEEj"
      },
      "source": [
        "<details><summary>Click vào đây để xem lời giải</summary>\n",
        "\n",
        "```python\n",
        "7\n",
        "\n",
        "```\n",
        "\n",
        "</details>\n"
      ]
    },
    {
      "cell_type": "markdown",
      "metadata": {
        "id": "jO9lwLJ6vEEk"
      },
      "source": [
        "<p>Giá trị của <code>y</code> trong <code>y = (3 + 2) * 2</code> là gì?</p>\n"
      ]
    },
    {
      "cell_type": "code",
      "execution_count": 2,
      "metadata": {
        "id": "gicGOhIHvEEk"
      },
      "outputs": [],
      "source": [
        "# Viêt code của bạn xuống dưới đây. Đừng quên ấn Shift+Enter để thực thi code\n",
        "y = (3 + 2) * 2"
      ]
    },
    {
      "cell_type": "markdown",
      "metadata": {
        "id": "PqsWCz5NvEEk"
      },
      "source": [
        "<details><summary>Click vào đây để xem lời giải</summary>\n",
        "\n",
        "```python\n",
        "10\n",
        "\n",
        "```\n",
        "\n",
        "</details>\n"
      ]
    },
    {
      "cell_type": "markdown",
      "metadata": {
        "id": "JYM7Fg07vEEk"
      },
      "source": [
        "<p>Giá trị của <code>z</code> trong <code>z = x + y</code> là gì?</p>\n"
      ]
    },
    {
      "cell_type": "code",
      "execution_count": 3,
      "metadata": {
        "id": "GCL7QEb0vEEk"
      },
      "outputs": [
        {
          "data": {
            "text/plain": [
              "19"
            ]
          },
          "execution_count": 3,
          "metadata": {},
          "output_type": "execute_result"
        }
      ],
      "source": [
        "# Viêt code của bạn xuống dưới đây. Đừng quên ấn Shift+Enter để thực thi code\n",
        "x + y"
      ]
    },
    {
      "cell_type": "markdown",
      "metadata": {
        "id": "CRZHNtVnvEEk"
      },
      "source": [
        "<details><summary>Click vào đây để xem lời giải</summary>\n",
        "\n",
        "```python\n",
        "17\n",
        "\n",
        "```\n",
        "\n",
        "</details>\n"
      ]
    }
  ],
  "metadata": {
    "colab": {
      "provenance": [],
      "toc_visible": true
    },
    "kernelspec": {
      "display_name": "Python 3",
      "language": "python",
      "name": "python3"
    },
    "language_info": {
      "codemirror_mode": {
        "name": "ipython",
        "version": 3
      },
      "file_extension": ".py",
      "mimetype": "text/x-python",
      "name": "python",
      "nbconvert_exporter": "python",
      "pygments_lexer": "ipython3",
      "version": "3.12.0"
    }
  },
  "nbformat": 4,
  "nbformat_minor": 0
}
